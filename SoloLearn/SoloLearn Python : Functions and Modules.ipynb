{
  "nbformat": 4,
  "nbformat_minor": 0,
  "metadata": {
    "colab": {
      "name": "SoloLearn Python : Functions and Modules",
      "provenance": [],
      "authorship_tag": "ABX9TyOd0F852Skk+zDI4CtpvgN1",
      "include_colab_link": true
    },
    "kernelspec": {
      "name": "python3",
      "display_name": "Python 3"
    },
    "language_info": {
      "name": "python"
    }
  },
  "cells": [
    {
      "cell_type": "markdown",
      "metadata": {
        "id": "view-in-github",
        "colab_type": "text"
      },
      "source": [
        "<a href=\"https://colab.research.google.com/github/muchlisam17/MyTraining/blob/main/SoloLearn/SoloLearn%20Python%20%3A%20Functions%20and%20Modules.ipynb\" target=\"_parent\"><img src=\"https://colab.research.google.com/assets/colab-badge.svg\" alt=\"Open In Colab\"/></a>"
      ]
    },
    {
      "cell_type": "markdown",
      "source": [
        "From https://www.sololearn.com/learning/1073 for training"
      ],
      "metadata": {
        "id": "2lsTA36y-Vuv"
      }
    },
    {
      "cell_type": "markdown",
      "source": [
        "#**Functions & Modules**"
      ],
      "metadata": {
        "id": "6PY8h4G5BlIt"
      }
    },
    {
      "cell_type": "markdown",
      "source": [
        "#**31.1. Lesson**\n",
        "\n",
        "**Code Reuse**"
      ],
      "metadata": {
        "id": "w6nbY6fw-Z1E"
      }
    },
    {
      "cell_type": "markdown",
      "metadata": {
        "id": "1JGCQipLvvj8"
      },
      "source": [
        "#**Reusing Code**\n",
        "\n",
        "\n",
        "**Code reuse** is a very important part of programming in any language. Increasing code size makes it harder to maintain.\n",
        "For a large programming project to be successful, it is essential to abide by the **Don't Repeat Yourself**, or **DRY**, principle. We've already looked at one way of doing this: by using loops. In this module, we will explore two more: functions and modules.\n"
      ]
    },
    {
      "cell_type": "markdown",
      "source": [
        "***!***\n",
        "\n",
        "*Bad, repetitive code is said to abide by the **WET principle**, which stands for **Write Everything Twice**, or **We Enjoy Typing**.*"
      ],
      "metadata": {
        "id": "wZcmhIc79VIU"
      }
    },
    {
      "cell_type": "markdown",
      "source": [
        "#*Reusing Code*\n",
        "\n",
        "Following the DRY principle makes the code:\n",
        "\n",
        "bad and repetitive\n",
        "\n",
        "loop forever\n",
        "\n",
        "easier to maintain (true)"
      ],
      "metadata": {
        "id": "lft9_ER580cm"
      }
    },
    {
      "cell_type": "markdown",
      "source": [
        "#**Functions**\n",
        "\n",
        "You've already used **functions** in previous lessons.\n",
        "\n",
        "Any statement that consists of a word followed by information in **parentheses** is a function call.\n",
        "\n",
        "Here are some examples that you've already seen:"
      ],
      "metadata": {
        "id": "sAdkevg99eKY"
      }
    },
    {
      "cell_type": "code",
      "metadata": {
        "id": "WifCuCoGvT7b",
        "colab": {
          "base_uri": "https://localhost:8080/"
        },
        "outputId": "f143ede2-6bb1-495d-efa4-e5421f093214"
      },
      "source": [
        "print(\"Hello world!\")\n",
        "range(2, 20)\n",
        "str(12)\n",
        "range(10, 20, 3)"
      ],
      "execution_count": null,
      "outputs": [
        {
          "output_type": "stream",
          "name": "stdout",
          "text": [
            "Hello world!\n"
          ]
        },
        {
          "output_type": "execute_result",
          "data": {
            "text/plain": [
              "range(10, 20, 3)"
            ]
          },
          "metadata": {},
          "execution_count": 1
        }
      ]
    },
    {
      "cell_type": "markdown",
      "source": [
        "***!***\n",
        "\n",
        "*The words in front of the parentheses are function **names**, and the comma-separated values inside the parentheses are function **arguments**.*"
      ],
      "metadata": {
        "id": "yw0PoRke930k"
      }
    },
    {
      "cell_type": "markdown",
      "source": [
        "#*Functions*\n",
        "\n",
        "How many arguments are in this function call?\n",
        "\n",
        "range(0, 100, 5)\n",
        "\n",
        "Ans : 3"
      ],
      "metadata": {
        "id": "JMUFa4iD-ICY"
      }
    },
    {
      "cell_type": "markdown",
      "source": [
        "#**32.1. Lesson**\n",
        "\n",
        "**Function**"
      ],
      "metadata": {
        "id": "YQpvbcpkAyrP"
      }
    },
    {
      "cell_type": "markdown",
      "source": [
        "#**Functions**\n",
        "\n",
        "\n",
        "In addition to using pre-defined functions, you can create your own functions by using the **def** statement.\n",
        "\n",
        "Here is an example of a function named **my_func**. It takes no arguments, and prints \"spam\" three times. It is defined, and then called. The statements in the function are executed only when the function is called.\n"
      ],
      "metadata": {
        "id": "Y5YswS1w-k6O"
      }
    },
    {
      "cell_type": "code",
      "source": [
        "def my_func():\n",
        "  print(\"spam\")\n",
        "  print(\"spam\")\n",
        "  print(\"spam\")\n",
        "\n",
        "my_func()"
      ],
      "metadata": {
        "colab": {
          "base_uri": "https://localhost:8080/"
        },
        "id": "cgY6UXsC-wGL",
        "outputId": "bb37af6c-c19a-4e5a-a376-fea07b83793d"
      },
      "execution_count": null,
      "outputs": [
        {
          "output_type": "stream",
          "name": "stdout",
          "text": [
            "spam\n",
            "spam\n",
            "spam\n"
          ]
        }
      ]
    },
    {
      "cell_type": "markdown",
      "source": [
        "***!***\n",
        "\n",
        "*The code block within every function starts with a colon (:) and is **indented**.*"
      ],
      "metadata": {
        "id": "A6I2j0Zl-5vx"
      }
    },
    {
      "cell_type": "markdown",
      "source": [
        "#*Functions*\n",
        "\n",
        "Fill in the blanks to define a function named hello:\n",
        "\n"
      ],
      "metadata": {
        "id": "ZcS7wYRb_X_l"
      }
    },
    {
      "cell_type": "code",
      "source": [
        "def hello():\n",
        "  print(\"Hi!\")"
      ],
      "metadata": {
        "id": "yUr0jBls_WvI"
      },
      "execution_count": null,
      "outputs": []
    },
    {
      "cell_type": "markdown",
      "source": [
        "#**Functions**\n",
        "\n",
        "You must define functions before they are called, in the same way that you must assign variables before using them.\n"
      ],
      "metadata": {
        "id": "BddJpPm5_jpb"
      }
    },
    {
      "cell_type": "code",
      "source": [
        "hello()\n",
        "\n",
        "def hello():\n",
        "  print(\"Hello world!\")"
      ],
      "metadata": {
        "colab": {
          "base_uri": "https://localhost:8080/",
          "height": 217
        },
        "id": "JPQuHAkj_omo",
        "outputId": "914508e8-100e-4a43-bd0c-3afbc7e1b073"
      },
      "execution_count": null,
      "outputs": [
        {
          "output_type": "error",
          "ename": "NameError",
          "evalue": "ignored",
          "traceback": [
            "\u001b[0;31m---------------------------------------------------------------------------\u001b[0m",
            "\u001b[0;31mNameError\u001b[0m                                 Traceback (most recent call last)",
            "\u001b[0;32m<ipython-input-3-9dc20a686e5a>\u001b[0m in \u001b[0;36m<module>\u001b[0;34m()\u001b[0m\n\u001b[0;32m----> 1\u001b[0;31m \u001b[0mhello\u001b[0m\u001b[0;34m(\u001b[0m\u001b[0;34m)\u001b[0m\u001b[0;34m\u001b[0m\u001b[0;34m\u001b[0m\u001b[0m\n\u001b[0m\u001b[1;32m      2\u001b[0m \u001b[0;34m\u001b[0m\u001b[0m\n\u001b[1;32m      3\u001b[0m \u001b[0;32mdef\u001b[0m \u001b[0mhello\u001b[0m\u001b[0;34m(\u001b[0m\u001b[0;34m)\u001b[0m\u001b[0;34m:\u001b[0m\u001b[0;34m\u001b[0m\u001b[0;34m\u001b[0m\u001b[0m\n\u001b[1;32m      4\u001b[0m   \u001b[0mprint\u001b[0m\u001b[0;34m(\u001b[0m\u001b[0;34m\"Hello world!\"\u001b[0m\u001b[0;34m)\u001b[0m\u001b[0;34m\u001b[0m\u001b[0;34m\u001b[0m\u001b[0m\n",
            "\u001b[0;31mNameError\u001b[0m: name 'hello' is not defined"
          ]
        }
      ]
    },
    {
      "cell_type": "markdown",
      "source": [
        "***!***\n",
        "\n",
        "*Tap **Try It Yourself** to play around with the code!*"
      ],
      "metadata": {
        "id": "24VaS_4l_yUs"
      }
    },
    {
      "cell_type": "markdown",
      "source": [
        "#*Functions*\n",
        "\n",
        "Rearrange the code to declare a function sayHi() and call it.\n",
        "\n",
        "def sayHi():\n",
        "\n",
        "print(\"Hi!\")\n",
        "\n",
        "sayHi()"
      ],
      "metadata": {
        "id": "dDTFCD-hABtI"
      }
    },
    {
      "cell_type": "code",
      "source": [
        "def sayHi():\n",
        "  print(\"Hi!\")\n",
        "sayHi()"
      ],
      "metadata": {
        "colab": {
          "base_uri": "https://localhost:8080/"
        },
        "id": "arXY_Z6jAQtc",
        "outputId": "65c7d903-f033-44c6-ef19-051ea2b23f45"
      },
      "execution_count": null,
      "outputs": [
        {
          "output_type": "stream",
          "name": "stdout",
          "text": [
            "Hi!\n"
          ]
        }
      ]
    },
    {
      "cell_type": "markdown",
      "source": [
        "#**33.1. Lesson**\n",
        "\n",
        "**Function Arguments**"
      ],
      "metadata": {
        "id": "9ShKEptlA82Z"
      }
    },
    {
      "cell_type": "markdown",
      "source": [
        "#**Arguments**\n",
        "\n",
        "All the function definitions we've looked at so far have been functions of zero arguments, which are called with empty parentheses.\n",
        "\n",
        "However, most functions take arguments.\n",
        "\n",
        "The example below defines a function that takes one argument:"
      ],
      "metadata": {
        "id": "5AkateiwBye3"
      }
    },
    {
      "cell_type": "code",
      "source": [
        "def print_with_exclamation(word):\n",
        "  print(word + \"!\")\n",
        "\n",
        "print_with_exclamation(\"spam\")\n",
        "print_with_exclamation(\"eggs\")\n",
        "print_with_exclamation(\"python\")"
      ],
      "metadata": {
        "colab": {
          "base_uri": "https://localhost:8080/"
        },
        "id": "c4tFGDm-B6Ih",
        "outputId": "4fce4810-01d9-41c1-cfa9-8552969685c2"
      },
      "execution_count": null,
      "outputs": [
        {
          "output_type": "stream",
          "name": "stdout",
          "text": [
            "spam!\n",
            "eggs!\n",
            "python!\n"
          ]
        }
      ]
    },
    {
      "cell_type": "markdown",
      "source": [
        "***!***\n",
        "\n",
        "*As you can see, the argument is defined inside the parentheses.*"
      ],
      "metadata": {
        "id": "Gn1yH-aPCQyx"
      }
    },
    {
      "cell_type": "markdown",
      "source": [
        "#*Arguments*\n",
        "\n",
        "What is the result of this code?\n",
        "\n",
        "def print_double(x):\n",
        "   print(2 * x)\n",
        "\n",
        "print_double(3)\n"
      ],
      "metadata": {
        "id": "wlW1rJK5CZDP"
      }
    },
    {
      "cell_type": "code",
      "source": [
        "def print_double(x):\n",
        "   print(2 * x)\n",
        "\n",
        "print_double(3)"
      ],
      "metadata": {
        "colab": {
          "base_uri": "https://localhost:8080/"
        },
        "id": "hkjR42gdCez5",
        "outputId": "c634976a-8c56-403a-ef45-287f582e1269"
      },
      "execution_count": null,
      "outputs": [
        {
          "output_type": "stream",
          "name": "stdout",
          "text": [
            "6\n"
          ]
        }
      ]
    },
    {
      "cell_type": "markdown",
      "source": [
        "#**Arguments**\n",
        "\n",
        "You can also define functions with more than one argument; separate them with commas."
      ],
      "metadata": {
        "id": "8eJwLIZcCiq8"
      }
    },
    {
      "cell_type": "code",
      "source": [
        "def print_sum_twice(x, y):\n",
        "  print(x + y)\n",
        "  print(x * y)\n",
        "\n",
        "print_sum_twice(5, 8)"
      ],
      "metadata": {
        "colab": {
          "base_uri": "https://localhost:8080/"
        },
        "id": "kGyeBOzbCnKu",
        "outputId": "228b96a1-b23c-47d7-f53f-31f0f1641e9a"
      },
      "execution_count": null,
      "outputs": [
        {
          "output_type": "stream",
          "name": "stdout",
          "text": [
            "13\n",
            "40\n"
          ]
        }
      ]
    },
    {
      "cell_type": "markdown",
      "source": [
        "***!***\n",
        "\n",
        "*Tap **Try It Yourself** to play around with the code!*"
      ],
      "metadata": {
        "id": "wr-Beuf2CyLK"
      }
    },
    {
      "cell_type": "markdown",
      "source": [
        "#*Arguments*\n",
        "\n",
        "Fill in the blanks to define a function that takes two arguments and prints their multiplication.\n",
        "\n",
        "() print_mult(x, y) ()\n",
        "   print(x * () )"
      ],
      "metadata": {
        "id": "K7j8PAuiCyDg"
      }
    },
    {
      "cell_type": "code",
      "source": [
        "def print_mult(x, y):\n",
        "   print(x * y)"
      ],
      "metadata": {
        "id": "x2CYVgEzDC2l"
      },
      "execution_count": null,
      "outputs": []
    },
    {
      "cell_type": "markdown",
      "source": [
        "#**Arguments**\n",
        "\n",
        "Function arguments can be used as variables inside the function definition. However, they cannot be referenced outside of the function's definition. This also applies to other variables created inside a function.\n",
        "\n"
      ],
      "metadata": {
        "id": "GEw0Y3seDWj1"
      }
    },
    {
      "cell_type": "code",
      "source": [
        "def function(variable):\n",
        "  variable += 1\n",
        "  print(variable)\n",
        "\n",
        "function(7)\n",
        "print(variable)"
      ],
      "metadata": {
        "colab": {
          "base_uri": "https://localhost:8080/",
          "height": 217
        },
        "id": "VolYLMHcDWb3",
        "outputId": "b5d65027-192c-4272-e627-73fddedcc18a"
      },
      "execution_count": null,
      "outputs": [
        {
          "output_type": "stream",
          "name": "stdout",
          "text": [
            "8\n"
          ]
        },
        {
          "output_type": "error",
          "ename": "NameError",
          "evalue": "ignored",
          "traceback": [
            "\u001b[0;31m---------------------------------------------------------------------------\u001b[0m",
            "\u001b[0;31mNameError\u001b[0m                                 Traceback (most recent call last)",
            "\u001b[0;32m<ipython-input-11-c2bde0148679>\u001b[0m in \u001b[0;36m<module>\u001b[0;34m()\u001b[0m\n\u001b[1;32m      4\u001b[0m \u001b[0;34m\u001b[0m\u001b[0m\n\u001b[1;32m      5\u001b[0m \u001b[0mfunction\u001b[0m\u001b[0;34m(\u001b[0m\u001b[0;36m7\u001b[0m\u001b[0;34m)\u001b[0m\u001b[0;34m\u001b[0m\u001b[0;34m\u001b[0m\u001b[0m\n\u001b[0;32m----> 6\u001b[0;31m \u001b[0mprint\u001b[0m\u001b[0;34m(\u001b[0m\u001b[0mvariable\u001b[0m\u001b[0;34m)\u001b[0m\u001b[0;34m\u001b[0m\u001b[0;34m\u001b[0m\u001b[0m\n\u001b[0m",
            "\u001b[0;31mNameError\u001b[0m: name 'variable' is not defined"
          ]
        }
      ]
    },
    {
      "cell_type": "markdown",
      "source": [
        "This code will throw an **error** because the variable is defined inside the function and can be referenced only there."
      ],
      "metadata": {
        "id": "EvVSjjtdDVoe"
      }
    },
    {
      "cell_type": "markdown",
      "source": [
        "***!***\n",
        "\n",
        "*Technically, **parameters** are the variables in a function definition, and **arguments** are the values put into parameters when functions are called.*"
      ],
      "metadata": {
        "id": "d6IRtzb3DyA0"
      }
    },
    {
      "cell_type": "markdown",
      "source": [
        "#*Arguments*\n",
        "\n",
        "Fill in the blanks to define a function that prints \"Yes\", if its parameter is an even number, and \"No\" otherwise.\n",
        "\n",
        "() even(x):\n",
        "\n",
        "   if x%2 == 0:\n",
        "\n",
        "  () (\"Yes\")\n",
        "\n",
        "  ()\n",
        "\n",
        "  print(\"No\")"
      ],
      "metadata": {
        "id": "C99VJszxD9MX"
      }
    },
    {
      "cell_type": "code",
      "source": [
        "def even(x):\n",
        "  if x%2 == 0:\n",
        "    print(\"Yes\")\n",
        "  else:\n",
        "    print(\"No\")"
      ],
      "metadata": {
        "id": "eZZ3q_xuEM7G"
      },
      "execution_count": null,
      "outputs": []
    },
    {
      "cell_type": "markdown",
      "source": [
        "#**34.1. Lesson**\n",
        "\n",
        "**Returning from Functions**"
      ],
      "metadata": {
        "id": "1FMpjP3CBCjc"
      }
    },
    {
      "cell_type": "markdown",
      "source": [
        "#**Returning from Functions**\n",
        "\n",
        "Certain functions, such as **int** or **str**, return a value that can be used later.\n",
        "\n",
        "To do this for your defined functions, you can use the return statement.\n",
        "\n",
        "**For example:**"
      ],
      "metadata": {
        "id": "LJbquZo4-v9z"
      }
    },
    {
      "cell_type": "code",
      "source": [
        "def max(x, y):\n",
        "  if x >= y:\n",
        "    return x\n",
        "  else:\n",
        "    return y\n",
        "\n",
        "print(max(4, 7))\n",
        "z = max(8, 5)\n",
        "print(z)"
      ],
      "metadata": {
        "colab": {
          "base_uri": "https://localhost:8080/"
        },
        "id": "bUiDnPKR-5G2",
        "outputId": "ad5ede57-9f5e-4f44-b22e-5f4802f327f7"
      },
      "execution_count": null,
      "outputs": [
        {
          "output_type": "stream",
          "name": "stdout",
          "text": [
            "7\n",
            "8\n"
          ]
        }
      ]
    },
    {
      "cell_type": "markdown",
      "source": [
        "***!***\n",
        "\n",
        "*The **return** statement cannot be used outside of a function definition.*"
      ],
      "metadata": {
        "id": "DVyYRN_s_N8j"
      }
    },
    {
      "cell_type": "markdown",
      "source": [
        "#*Returning from Functions*\n",
        "\n",
        "Fill in the blanks to define a function that compares the lengths of its arguments and returns the shortest one.\n",
        "\n",
        "def shortest_string(x, y):\n",
        "\n",
        "if len(x) <= () (y):\n",
        "\n",
        "() x\n",
        "\n",
        "else:\n",
        "  \n",
        "() y"
      ],
      "metadata": {
        "id": "En41XzUj_lhP"
      }
    },
    {
      "cell_type": "code",
      "source": [
        "def shortest_string(x, y):\n",
        "  if len(x) <= len (y):\n",
        "    return x\n",
        "  else:\n",
        "    return y"
      ],
      "metadata": {
        "id": "VVYq1sfM_3cu"
      },
      "execution_count": null,
      "outputs": []
    },
    {
      "cell_type": "markdown",
      "source": [
        "#**Returning from Functions**\n",
        "\n",
        "Once you return a value from a function, it immediately stops being executed. Any code after the **return** statement will never happen.\n",
        "\n",
        "**For example:**"
      ],
      "metadata": {
        "id": "U9L2FPWzALi8"
      }
    },
    {
      "cell_type": "code",
      "source": [
        "def add_numbers(x, y):\n",
        "  total = x + y\n",
        "  return total\n",
        "  print(\"This won't be printed\")\n",
        "\n",
        "print(add_numbers(4, 5))"
      ],
      "metadata": {
        "id": "P1q68jorAUMb",
        "colab": {
          "base_uri": "https://localhost:8080/"
        },
        "outputId": "5c4d3307-4489-4760-d29f-eae2ea7bcc3c"
      },
      "execution_count": null,
      "outputs": [
        {
          "output_type": "stream",
          "name": "stdout",
          "text": [
            "9\n"
          ]
        }
      ]
    },
    {
      "cell_type": "markdown",
      "source": [
        "***!***\n",
        "\n",
        "*Tap **Try It Yourself** to play around with the code!*"
      ],
      "metadata": {
        "id": "t3tjnFFIAmoI"
      }
    },
    {
      "cell_type": "markdown",
      "source": [
        "#*Returning from Functions*\n",
        "\n",
        "What is the highest number this function prints if called?\n",
        "\n",
        "def print_numbers():\n",
        "\n",
        "  print(1)\n",
        "\n",
        "  print(2)\n",
        "\n",
        "  return\n",
        "\n",
        "  print(4)\n",
        "\n",
        "  print(6)\n",
        "\n",
        "Ans : 2\n",
        "\n"
      ],
      "metadata": {
        "id": "rqiguEfFAtCt"
      }
    },
    {
      "cell_type": "code",
      "source": [
        "def print_numbers():\n",
        "  print(1)\n",
        "  print(2)\n",
        "  return\n",
        "  print(4)\n",
        "  print(6)"
      ],
      "metadata": {
        "id": "sRYN-PpLA5hO"
      },
      "execution_count": null,
      "outputs": []
    },
    {
      "cell_type": "markdown",
      "source": [
        "#**35.1. Lesson**\n",
        "\n",
        "**Comments & Docstrings**"
      ],
      "metadata": {
        "id": "JQpzPo1xBCnq"
      }
    },
    {
      "cell_type": "markdown",
      "source": [
        "#**Comments**\n",
        "\n",
        "**Comments** are annotations to code used to make it easier to understand. They don't affect how code is run.\n",
        "In Python, a comment is created by inserting an **octothorpe** (otherwise known as a number sign or hash symbol: #). All text after it on that line is ignored.\n",
        "\n",
        "**For example:**\n",
        "\n"
      ],
      "metadata": {
        "id": "aZiP0yGDBfvv"
      }
    },
    {
      "cell_type": "code",
      "source": [
        "x = 365\n",
        "y = 7\n",
        "#this is a comment\n",
        "\n",
        "print(x % y) #find the reminder\n",
        "#print (x // y)\n",
        "#another comment"
      ],
      "metadata": {
        "colab": {
          "base_uri": "https://localhost:8080/"
        },
        "id": "Pus6M-7ABhUX",
        "outputId": "3f71ecf9-dd28-4a6e-ef24-33de66b8d4a6"
      },
      "execution_count": null,
      "outputs": [
        {
          "output_type": "stream",
          "name": "stdout",
          "text": [
            "1\n"
          ]
        }
      ]
    },
    {
      "cell_type": "markdown",
      "source": [
        "***!***\n",
        "\n",
        "*Python doesn't have general purpose multiline comments, as do programming languages such as C.*"
      ],
      "metadata": {
        "id": "EBzlSIMnBhrn"
      }
    },
    {
      "cell_type": "markdown",
      "source": [
        "#*Comments*\n",
        "\n",
        "Fill in the blank to comment out the text:\n",
        "\n",
        "x = 8\n",
        "\n",
        "() printing x\n",
        "\n",
        "print(x)"
      ],
      "metadata": {
        "id": "ainvNzYBCFbN"
      }
    },
    {
      "cell_type": "code",
      "source": [
        "x = 8\n",
        "# printing x\n",
        "print(x)"
      ],
      "metadata": {
        "colab": {
          "base_uri": "https://localhost:8080/"
        },
        "id": "qUJ3vbw1CToO",
        "outputId": "94d98bc3-2db0-4d30-cd81-74fd6310b7a2"
      },
      "execution_count": null,
      "outputs": [
        {
          "output_type": "stream",
          "name": "stdout",
          "text": [
            "8\n"
          ]
        }
      ]
    },
    {
      "cell_type": "markdown",
      "source": [
        "#**Docstrings**\n",
        "\n",
        "**Docstrings** (documentation strings) serve a similar purpose to comments, as they are designed to explain code. However, they are more specific and have a different syntax. They are created by putting a multiline string containing an explanation of the function below the **function's first line**\n",
        "\n"
      ],
      "metadata": {
        "id": "7hvTQVxnCamB"
      }
    },
    {
      "cell_type": "code",
      "source": [
        "def shout(word):\n",
        "  \"\"\"\n",
        "  Print a word with an\n",
        "  exclamation mark following it.\n",
        "  \"\"\"\n",
        "  print(word + \"!\")\n",
        "\n",
        "shout(\"spam\")"
      ],
      "metadata": {
        "colab": {
          "base_uri": "https://localhost:8080/"
        },
        "id": "kAv5JKUuCbWJ",
        "outputId": "cbcdf59a-97c4-44b4-ae56-836136142013"
      },
      "execution_count": null,
      "outputs": [
        {
          "output_type": "stream",
          "name": "stdout",
          "text": [
            "spam!\n"
          ]
        }
      ]
    },
    {
      "cell_type": "markdown",
      "source": [
        "***!***\n",
        "\n",
        "*Unlike conventional comments, **docstrings** are retained throughout the runtime of the program. This allows the programmer to inspect these comments at run time.*"
      ],
      "metadata": {
        "id": "AHnKaXnzCbt9"
      }
    },
    {
      "cell_type": "markdown",
      "source": [
        "#*Docstrings*\n",
        "\n",
        "Can a docstring contain multiple lines of text?\n",
        "\n",
        "No\n",
        "\n",
        "Yes (True)"
      ],
      "metadata": {
        "id": "0x1UU_LQCf48"
      }
    },
    {
      "cell_type": "markdown",
      "source": [
        "#**36.1. Lesson**\n",
        "\n",
        "**Functions as Objects**"
      ],
      "metadata": {
        "id": "kRlEH9vaBCre"
      }
    },
    {
      "cell_type": "markdown",
      "source": [
        "#**Functions**\n",
        "\n",
        "Although they are created differently from normal variables, **functions** are just like any other kind of value.\n",
        "\n",
        "They can be assigned and reassigned to variables, and later referenced by those names."
      ],
      "metadata": {
        "id": "Bm4vbBnuDdl3"
      }
    },
    {
      "cell_type": "code",
      "source": [
        "def multiply(x, y):\n",
        "  return x * y\n",
        "\n",
        "a = 4\n",
        "b = 7\n",
        "operation = multiply\n",
        "print(operation(a, b))"
      ],
      "metadata": {
        "colab": {
          "base_uri": "https://localhost:8080/"
        },
        "id": "sdDHkdygDdCL",
        "outputId": "14f78a73-d67f-4b07-d474-a5e98bd96040"
      },
      "execution_count": null,
      "outputs": [
        {
          "output_type": "stream",
          "name": "stdout",
          "text": [
            "28\n"
          ]
        }
      ]
    },
    {
      "cell_type": "markdown",
      "source": [
        "***!***\n",
        "\n",
        "*The example above assigned the function **multiply** to a variable **operation**. Now, the name **operation** can also be used to call the function.*"
      ],
      "metadata": {
        "id": "J0oIY4BlDfqg"
      }
    },
    {
      "cell_type": "markdown",
      "source": [
        "#*Functions*\n",
        "\n",
        "What is the output of this code?\n",
        "\n",
        "def shout(word):\n",
        "\n",
        "   return word + \"!\"\n",
        "\n",
        "speak = shout\n",
        "\n",
        "output = speak(\"shout\")\n",
        "\n",
        "print(output)\n",
        "\n",
        "Ans : shout!"
      ],
      "metadata": {
        "id": "QZJVtJTWDhhj"
      }
    },
    {
      "cell_type": "code",
      "source": [
        "def shout(word):\n",
        "   return word + \"!\"\n",
        "speak = shout\n",
        "output = speak(\"shout\")\n",
        "print(output)"
      ],
      "metadata": {
        "colab": {
          "base_uri": "https://localhost:8080/"
        },
        "id": "sxEHq9QxH2ER",
        "outputId": "e54d4274-4c8a-4ed6-d175-c0efb0ab88ab"
      },
      "execution_count": null,
      "outputs": [
        {
          "output_type": "stream",
          "name": "stdout",
          "text": [
            "shout!\n"
          ]
        }
      ]
    },
    {
      "cell_type": "markdown",
      "source": [
        "#**Functions**\n",
        "\n",
        "Functions can also be used as arguments of other functions."
      ],
      "metadata": {
        "id": "drC-zg_1DlJY"
      }
    },
    {
      "cell_type": "code",
      "source": [
        "def add(x, y):\n",
        "   return x + y\n",
        "\n",
        "def do_twice(func, x, y):\n",
        "  return funcfunc(x, y), func(x, y)\n",
        "\n",
        "a = 5\n",
        "b = 10\n",
        "\n",
        "print(do_twice(add, a, b))"
      ],
      "metadata": {
        "colab": {
          "base_uri": "https://localhost:8080/",
          "height": 322
        },
        "id": "_Vqvl7I8DlJZ",
        "outputId": "0bf3c02f-3fe3-4340-8a47-a24351920d8e"
      },
      "execution_count": null,
      "outputs": [
        {
          "output_type": "error",
          "ename": "NameError",
          "evalue": "ignored",
          "traceback": [
            "\u001b[0;31m---------------------------------------------------------------------------\u001b[0m",
            "\u001b[0;31mNameError\u001b[0m                                 Traceback (most recent call last)",
            "\u001b[0;32m<ipython-input-18-feb844472b99>\u001b[0m in \u001b[0;36m<module>\u001b[0;34m()\u001b[0m\n\u001b[1;32m      8\u001b[0m \u001b[0mb\u001b[0m \u001b[0;34m=\u001b[0m \u001b[0;36m10\u001b[0m\u001b[0;34m\u001b[0m\u001b[0;34m\u001b[0m\u001b[0m\n\u001b[1;32m      9\u001b[0m \u001b[0;34m\u001b[0m\u001b[0m\n\u001b[0;32m---> 10\u001b[0;31m \u001b[0mprint\u001b[0m\u001b[0;34m(\u001b[0m\u001b[0mdo_twice\u001b[0m\u001b[0;34m(\u001b[0m\u001b[0madd\u001b[0m\u001b[0;34m,\u001b[0m \u001b[0ma\u001b[0m\u001b[0;34m,\u001b[0m \u001b[0mb\u001b[0m\u001b[0;34m)\u001b[0m\u001b[0;34m)\u001b[0m\u001b[0;34m\u001b[0m\u001b[0;34m\u001b[0m\u001b[0m\n\u001b[0m",
            "\u001b[0;32m<ipython-input-18-feb844472b99>\u001b[0m in \u001b[0;36mdo_twice\u001b[0;34m(func, x, y)\u001b[0m\n\u001b[1;32m      3\u001b[0m \u001b[0;34m\u001b[0m\u001b[0m\n\u001b[1;32m      4\u001b[0m \u001b[0;32mdef\u001b[0m \u001b[0mdo_twice\u001b[0m\u001b[0;34m(\u001b[0m\u001b[0mfunc\u001b[0m\u001b[0;34m,\u001b[0m \u001b[0mx\u001b[0m\u001b[0;34m,\u001b[0m \u001b[0my\u001b[0m\u001b[0;34m)\u001b[0m\u001b[0;34m:\u001b[0m\u001b[0;34m\u001b[0m\u001b[0;34m\u001b[0m\u001b[0m\n\u001b[0;32m----> 5\u001b[0;31m   \u001b[0;32mreturn\u001b[0m \u001b[0mfuncfunc\u001b[0m\u001b[0;34m(\u001b[0m\u001b[0mx\u001b[0m\u001b[0;34m,\u001b[0m \u001b[0my\u001b[0m\u001b[0;34m)\u001b[0m\u001b[0;34m,\u001b[0m \u001b[0mfunc\u001b[0m\u001b[0;34m(\u001b[0m\u001b[0mx\u001b[0m\u001b[0;34m,\u001b[0m \u001b[0my\u001b[0m\u001b[0;34m)\u001b[0m\u001b[0;34m\u001b[0m\u001b[0;34m\u001b[0m\u001b[0m\n\u001b[0m\u001b[1;32m      6\u001b[0m \u001b[0;34m\u001b[0m\u001b[0m\n\u001b[1;32m      7\u001b[0m \u001b[0ma\u001b[0m \u001b[0;34m=\u001b[0m \u001b[0;36m5\u001b[0m\u001b[0;34m\u001b[0m\u001b[0;34m\u001b[0m\u001b[0m\n",
            "\u001b[0;31mNameError\u001b[0m: name 'funcfunc' is not defined"
          ]
        }
      ]
    },
    {
      "cell_type": "markdown",
      "source": [
        "***!***\n",
        "\n",
        "*As you can see, the function **do_twice** takes a function as its argument and calls it in its body.*"
      ],
      "metadata": {
        "id": "Hp2xcf9bDlJZ"
      }
    },
    {
      "cell_type": "markdown",
      "source": [
        "#*Functions*\n",
        "\n",
        "Fill in the blanks to pass the function \"square\" as an argument to the function \"test\":\n",
        "\n",
        "() square(x):\n",
        "  return x * x\n",
        "\n",
        "def test(func, x)()\n",
        "  print(func(x))\n",
        "\n",
        "test( (), 42)\n",
        "\n",
        "Ans : def, : , square\n"
      ],
      "metadata": {
        "id": "CuEyLDqxDlJZ"
      }
    },
    {
      "cell_type": "code",
      "source": [
        "def square(x):\n",
        "  return x * x\n",
        "\n",
        "def test(func, x):\n",
        "  print(func(x))\n",
        "\n",
        "test(square, 42)"
      ],
      "metadata": {
        "colab": {
          "base_uri": "https://localhost:8080/"
        },
        "id": "ebR0-ihuJaRM",
        "outputId": "bb7639a9-ef26-46a2-cba6-6a0169c53a3e"
      },
      "execution_count": null,
      "outputs": [
        {
          "output_type": "stream",
          "name": "stdout",
          "text": [
            "1764\n"
          ]
        }
      ]
    },
    {
      "cell_type": "markdown",
      "source": [
        "#**37.1. Lesson**\n",
        "\n",
        "**Modules**"
      ],
      "metadata": {
        "id": "Zc0pKjMxBIPD"
      }
    },
    {
      "cell_type": "markdown",
      "source": [
        "#**Modules**\n",
        "\n",
        "**Modules** are pieces of code that other people have written to fulfill common tasks, such as generating random numbers, performing mathematical operations, etc.\n",
        "\n",
        "The basic way to use a module is to add **import module_name** at the top of your code, and then using **module_name.var** to access functions and values with the name **var** in the module.\n",
        "For example, the following example uses the **random** module to generate random numbers:"
      ],
      "metadata": {
        "id": "dXfNxN5lDma6"
      }
    },
    {
      "cell_type": "code",
      "source": [
        "import random\n",
        "\n",
        "for i in range(5):\n",
        "  value = random.randint(1, 6)\n",
        "  print(value)"
      ],
      "metadata": {
        "id": "CDUWtEHrDma7",
        "colab": {
          "base_uri": "https://localhost:8080/"
        },
        "outputId": "1d54d29c-1ca6-4edc-c8c7-754eca04f81a"
      },
      "execution_count": null,
      "outputs": [
        {
          "output_type": "stream",
          "name": "stdout",
          "text": [
            "3\n",
            "2\n",
            "4\n",
            "5\n",
            "5\n"
          ]
        }
      ]
    },
    {
      "cell_type": "markdown",
      "source": [
        "***!***\n",
        "\n",
        "*The code uses the **randint** function defined in the random module to print 5 **random** numbers in the range 1 to 6.*"
      ],
      "metadata": {
        "id": "jb3ywYpLDma8"
      }
    },
    {
      "cell_type": "markdown",
      "source": [
        "#*Modules*\n",
        "\n",
        "Which module is being used in this code?\n",
        "\n",
        "import math\n",
        "\n",
        "num = 10\n",
        "\n",
        "print (math.sqrt(num))\n",
        "\n",
        "Ans : math"
      ],
      "metadata": {
        "id": "MGGLa5N4Dma9"
      }
    },
    {
      "cell_type": "code",
      "source": [
        "import math\n",
        "num = 10\n",
        "print (math.sqrt(num))"
      ],
      "metadata": {
        "colab": {
          "base_uri": "https://localhost:8080/"
        },
        "id": "yzn8c0NxEgDf",
        "outputId": "ca771139-1fbc-4943-de35-006cacbfbd51"
      },
      "execution_count": null,
      "outputs": [
        {
          "output_type": "stream",
          "name": "stdout",
          "text": [
            "3.1622776601683795\n"
          ]
        }
      ]
    },
    {
      "cell_type": "markdown",
      "source": [
        "#**Modules**\n",
        "\n",
        "There is another kind of **import** that can be used if you only need certain functions from a module.\n",
        "\n",
        "These take the form **from module_name import var**, and then **var** can be used as if it were defined normally in your code.\n",
        "For example, to import only the **pi** constant from the **math** module:\n",
        "\n"
      ],
      "metadata": {
        "id": "FkSAQ78yDm8n"
      }
    },
    {
      "cell_type": "code",
      "source": [
        "from math import pi\n",
        "\n",
        "print(pi)"
      ],
      "metadata": {
        "id": "zTYl9EgSDm8o",
        "colab": {
          "base_uri": "https://localhost:8080/"
        },
        "outputId": "0850bd87-8542-4f87-f2e0-45cfbabb1f1b"
      },
      "execution_count": null,
      "outputs": [
        {
          "output_type": "stream",
          "name": "stdout",
          "text": [
            "3.141592653589793\n"
          ]
        }
      ]
    },
    {
      "cell_type": "markdown",
      "source": [
        "Use a comma separated list to import multiple objects. For example:"
      ],
      "metadata": {
        "id": "uKcTpJdVFNak"
      }
    },
    {
      "cell_type": "code",
      "source": [
        "from math import pi, sqrt"
      ],
      "metadata": {
        "id": "jd83JhS7FO7N"
      },
      "execution_count": null,
      "outputs": []
    },
    {
      "cell_type": "markdown",
      "source": [
        "***!***\n",
        "\n",
        "*- *imports all objects from a module. For example: **from math import**.*\n",
        "\n",
        "*\n",
        "\n",
        "*This is generally discouraged, as it confuses variables in your code with variables in the external module.*"
      ],
      "metadata": {
        "id": "efzeHKkhDm8p"
      }
    },
    {
      "cell_type": "markdown",
      "source": [
        "#*Modules*\n",
        "\n",
        "Fill in the blanks to import only the sqrt and cos functions from the math module:\n",
        "\n",
        "() math import () cos\n",
        "\n",
        "Ans : from, sqrt,"
      ],
      "metadata": {
        "id": "gmlC-cqTDm8q"
      }
    },
    {
      "cell_type": "code",
      "source": [
        "from math import sqrt, cos"
      ],
      "metadata": {
        "id": "w5uVyKWBF_G3"
      },
      "execution_count": null,
      "outputs": []
    },
    {
      "cell_type": "markdown",
      "source": [
        "#**Modules**\n",
        "\n",
        "Trying to import a module that isn't available causes an ImportError."
      ],
      "metadata": {
        "id": "axIxn-feGb0v"
      }
    },
    {
      "cell_type": "code",
      "source": [
        "import some_module"
      ],
      "metadata": {
        "colab": {
          "base_uri": "https://localhost:8080/",
          "height": 304
        },
        "id": "UQ6ZO1PNGb0w",
        "outputId": "1c90b355-1edb-4d1e-c89d-51865ec27a7c"
      },
      "execution_count": null,
      "outputs": [
        {
          "output_type": "error",
          "ename": "ModuleNotFoundError",
          "evalue": "ignored",
          "traceback": [
            "\u001b[0;31m---------------------------------------------------------------------------\u001b[0m",
            "\u001b[0;31mModuleNotFoundError\u001b[0m                       Traceback (most recent call last)",
            "\u001b[0;32m<ipython-input-7-beceebbbf090>\u001b[0m in \u001b[0;36m<module>\u001b[0;34m()\u001b[0m\n\u001b[0;32m----> 1\u001b[0;31m \u001b[0;32mimport\u001b[0m \u001b[0msome_module\u001b[0m\u001b[0;34m\u001b[0m\u001b[0;34m\u001b[0m\u001b[0m\n\u001b[0m",
            "\u001b[0;31mModuleNotFoundError\u001b[0m: No module named 'some_module'",
            "",
            "\u001b[0;31m---------------------------------------------------------------------------\u001b[0;32m\nNOTE: If your import is failing due to a missing package, you can\nmanually install dependencies using either !pip or !apt.\n\nTo view examples of installing some common dependencies, click the\n\"Open Examples\" button below.\n\u001b[0;31m---------------------------------------------------------------------------\u001b[0m\n"
          ],
          "errorDetails": {
            "actions": [
              {
                "action": "open_url",
                "actionText": "Open Examples",
                "url": "/notebooks/snippets/importing_libraries.ipynb"
              }
            ]
          }
        }
      ]
    },
    {
      "cell_type": "markdown",
      "source": [
        "***!***\n",
        "\n",
        "*Trying to import a module that isn't available causes an ImportError.*"
      ],
      "metadata": {
        "id": "KvLG1g2wGb0w"
      }
    },
    {
      "cell_type": "markdown",
      "source": [
        "#*Modules*\n",
        "\n",
        "What error is caused by importing an unknown module?\n",
        "\n",
        "ImportError\n",
        "\n",
        "ModuleError\n",
        "\n",
        "UnknownModuleError\n",
        "\n",
        "Ans : ImportError"
      ],
      "metadata": {
        "id": "6eXVcU0BGb0x"
      }
    },
    {
      "cell_type": "markdown",
      "source": [
        "#**Modules**\n",
        "\n",
        "You can import a module or object under a different name using the as keyword. This is mainly used when a module or object has a long or confusing name.\n",
        "\n",
        "**For example:**"
      ],
      "metadata": {
        "id": "DRGiqtHSG3gc"
      }
    },
    {
      "cell_type": "code",
      "source": [
        "from math import sqrt as square_root\n",
        "print(square_root(100))"
      ],
      "metadata": {
        "colab": {
          "base_uri": "https://localhost:8080/"
        },
        "id": "LMjv0u_oG3gh",
        "outputId": "26bdd6ee-9ea3-43f2-d057-7e4abd0a5a56"
      },
      "execution_count": null,
      "outputs": [
        {
          "output_type": "stream",
          "name": "stdout",
          "text": [
            "10.0\n"
          ]
        }
      ]
    },
    {
      "cell_type": "markdown",
      "source": [
        "***!***\n",
        "\n",
        "*Tap Try It Yourself to play around with the code!*"
      ],
      "metadata": {
        "id": "OZZPgvxbG3gi"
      }
    },
    {
      "cell_type": "markdown",
      "source": [
        "#*Modules*\n",
        "\n",
        "What is the output of this code?\n",
        "\n",
        "import math as m\n",
        "\n",
        "print(math.sqrt(25))\n",
        "\n",
        "25\n",
        "\n",
        "An error occurs\n",
        "\n",
        "5\n",
        "\n",
        "Ans : 5 or An error occurs\n",
        "\n",
        "*NB : Running in My Colab is success, but the answer in the Sololearn is false. The true answer is An error occurs*"
      ],
      "metadata": {
        "id": "1mHXapNMG3gi"
      }
    },
    {
      "cell_type": "code",
      "source": [
        "import math as m\n",
        "print(math.sqrt(25))"
      ],
      "metadata": {
        "colab": {
          "base_uri": "https://localhost:8080/"
        },
        "id": "ZTPTCVpaHKAI",
        "outputId": "5c789a3c-19fd-47d8-cc4f-9677d64e4b56"
      },
      "execution_count": null,
      "outputs": [
        {
          "output_type": "stream",
          "name": "stdout",
          "text": [
            "5.0\n"
          ]
        }
      ]
    },
    {
      "cell_type": "markdown",
      "source": [
        "#**38.1. Lesson**\n",
        "\n",
        "**The Standard Library & pip**"
      ],
      "metadata": {
        "id": "HekclO6QBJy2"
      }
    },
    {
      "cell_type": "markdown",
      "source": [
        "#**Modules**\n",
        "\n",
        "There are three main types of modules in Python, those you write yourself, those you install from external sources, and those that are preinstalled with Python.\n",
        "\n",
        "The last type is called the **standard library**, and contains many useful modules. Some of the standard library's useful modules include **string**, **re**, **datetime**, **math**, **random**, **os**, **multiprocessing**, **subprocess**, **socket**, **email**, **json**, **doctest**, **unittest**, **pdb**, **argparse** and **sys**.\n",
        "\n",
        "Tasks that can be done by the standard library include string parsing, data serialization, testing, debugging and manipulating dates, emails, command line arguments, and much more!"
      ],
      "metadata": {
        "id": "LhxH0Ys4Dnd8"
      }
    },
    {
      "cell_type": "code",
      "source": [
        ""
      ],
      "metadata": {
        "id": "YFtO3sbkDnd9"
      },
      "execution_count": null,
      "outputs": []
    },
    {
      "cell_type": "markdown",
      "source": [
        "***!***\n",
        "\n",
        "*Python's extensive standard library is one of its main strengths as a language.*"
      ],
      "metadata": {
        "id": "x1jXBx6ODnd9"
      }
    },
    {
      "cell_type": "markdown",
      "source": [
        "#*Modules*\n",
        "\n",
        "Fill in the blanks to import the math module.\n",
        "\n",
        "() math\n",
        "\n",
        "Ans : import"
      ],
      "metadata": {
        "id": "_CP29qiYDnd-"
      }
    },
    {
      "cell_type": "code",
      "source": [
        "import math"
      ],
      "metadata": {
        "id": "Y7WmPVI8Ibm-"
      },
      "execution_count": null,
      "outputs": []
    },
    {
      "cell_type": "markdown",
      "source": [
        "#**The Standard Library**\n",
        "\n",
        "Some of the modules in the standard library are written in Python, and some are written in C.\n",
        "\n",
        "Most are available on all platforms, but some are Windows or Unix specific."
      ],
      "metadata": {
        "id": "iUM1XJFgDn-v"
      }
    },
    {
      "cell_type": "code",
      "source": [
        ""
      ],
      "metadata": {
        "id": "1jaidD9FDn-v"
      },
      "execution_count": null,
      "outputs": []
    },
    {
      "cell_type": "markdown",
      "source": [
        "***!***\n",
        "\n",
        "*We won't cover all of the modules in the standard library; there are simply too many. The complete documentation for the standard library is available online at www.python.org.*"
      ],
      "metadata": {
        "id": "r_nUR0VKDn-v"
      }
    },
    {
      "cell_type": "markdown",
      "source": [
        "#*The Standard Library*\n",
        "\n",
        "What name is given to Python's preinstalled modules?\n",
        "\n",
        "Unix\n",
        "\n",
        "The Standard Library\n",
        "\n",
        "import\n",
        "\n",
        "Ans : The Standard Library"
      ],
      "metadata": {
        "id": "FUlmxaMHDn-w"
      }
    },
    {
      "cell_type": "markdown",
      "source": [
        "#**Modules**\n",
        "\n",
        "Many third-party Python modules are stored on the **Python Package Index (PyPI)**.\n",
        "\n",
        "The best way to install these is using a program called **pip**. This comes installed by default with modern distributions of Python. If you don't have it, it is easy to install online. Once you have it, installing libraries from PyPI is easy. Look up the name of the library you want to install, go to the command line (for Windows it will be the Command Prompt), and enter **pip install library_name**. Once you've done this, import the library and use it in your code.\n",
        "\n",
        "Using **pip** is the standard way of installing libraries on most operating systems, but some libraries have prebuilt binaries for Windows. These are normal executable files that let you install libraries with a GUI the same way you would install other programs."
      ],
      "metadata": {
        "id": "qg1ddoJ7I43G"
      }
    },
    {
      "cell_type": "code",
      "source": [
        ""
      ],
      "metadata": {
        "id": "NeAj1N5iI43L"
      },
      "execution_count": null,
      "outputs": []
    },
    {
      "cell_type": "markdown",
      "source": [
        "***!***\n",
        "\n",
        "*It's important to enter **pip** commands at the command line, not the Python interpreter.*"
      ],
      "metadata": {
        "id": "K_9NgDnTI43L"
      }
    },
    {
      "cell_type": "markdown",
      "source": [
        "#*Modules*\n",
        "\n",
        "What does PyPI stand for?\n",
        "\n",
        "Python Package Installer\n",
        "\n",
        "Python Project Index\n",
        "\n",
        "Python Package Index\n",
        "\n",
        "Ans : Python Package Index"
      ],
      "metadata": {
        "id": "sDj_4-syI43M"
      }
    },
    {
      "cell_type": "markdown",
      "source": [
        "#**39.1. Lesson**\n",
        "\n",
        "**Module 4 Quiz**"
      ],
      "metadata": {
        "id": "8LrGhoKxBK4q"
      }
    },
    {
      "cell_type": "markdown",
      "source": [
        "#**Number 1**\n",
        "\n",
        "Fill in the blanks to define a function that takes two numbers as arguments and returns the smaller one.\n",
        "\n",
        "() min(x, y):\n",
        "\n",
        "  if x<=y ()\n",
        "\n",
        "  return x\n",
        "\n",
        "  else:\n",
        "\n",
        "  () y\n",
        "\n",
        "Ans : def, :, return"
      ],
      "metadata": {
        "id": "Zbn1QqLPDoYg"
      }
    },
    {
      "cell_type": "code",
      "source": [
        "def min(x, y):\n",
        "  if x<=y:\n",
        "    return x\n",
        "  else:\n",
        "    return y"
      ],
      "metadata": {
        "id": "C_rEEfFdDoYh"
      },
      "execution_count": null,
      "outputs": []
    },
    {
      "cell_type": "markdown",
      "source": [
        "#**Number 2**\n",
        "\n",
        "Rearrange the code to define a function that calculates the sum of all numbers from 0 to its argument.\n",
        "\n",
        "res = 0\n",
        "\n",
        "for i in range(x):\n",
        "\n",
        "return res\n",
        "\n",
        "def sum(x):\n",
        "\n",
        "res += i\n",
        "\n",
        "Ans : \n",
        "\n",
        "def sum(x):\n",
        "\n",
        "res = 0\n",
        "\n",
        "for i in range(x):\n",
        "\n",
        "  res += i\n",
        "\n",
        "return res"
      ],
      "metadata": {
        "id": "IGJf1tfnKNXw"
      }
    },
    {
      "cell_type": "code",
      "source": [
        "def sum(x):\n",
        "  res = 0\n",
        "  for i in range(x):\n",
        "    res += i\n",
        "  return res"
      ],
      "metadata": {
        "id": "E30_aFmaKNXx"
      },
      "execution_count": null,
      "outputs": []
    },
    {
      "cell_type": "markdown",
      "source": [
        "#**Number 3**\n",
        "\n",
        "How would you refer to the randint function if it was imported like this?\n",
        "from random import randint as rnd_int\n",
        "\n",
        "rnd_int\n",
        "\n",
        "randint\n",
        "\n",
        "random.rnd_int\n",
        "\n",
        "Ans : rnd_int"
      ],
      "metadata": {
        "id": "6g9xKmpsKN2V"
      }
    },
    {
      "cell_type": "code",
      "source": [
        ""
      ],
      "metadata": {
        "id": "K6UgjkVmKN2V"
      },
      "execution_count": null,
      "outputs": []
    },
    {
      "cell_type": "markdown",
      "source": [
        "#**Number 4**\n",
        "\n",
        "What is the highest number output by this code?\n",
        "\n",
        "def print_nums(x):\n",
        "\n",
        "for i in range(x):\n",
        "\n",
        "print(i)\n",
        "\n",
        "return\n",
        "\n",
        "print_nums(10)\n",
        "\n",
        "Ans : 0"
      ],
      "metadata": {
        "id": "xiWzTFczKN-Q"
      }
    },
    {
      "cell_type": "code",
      "source": [
        "def print_nums(x):\n",
        "  for i in range(x):\n",
        "    print(i)\n",
        "    return\n",
        "print_nums(10)\n"
      ],
      "metadata": {
        "colab": {
          "base_uri": "https://localhost:8080/"
        },
        "id": "KmD0V4XYKN-Q",
        "outputId": "bdf52e5c-c012-4c35-9d5d-2b3bfc681620"
      },
      "execution_count": null,
      "outputs": [
        {
          "output_type": "stream",
          "name": "stdout",
          "text": [
            "0\n"
          ]
        }
      ]
    },
    {
      "cell_type": "markdown",
      "source": [
        "#**Number 5**\n",
        "\n",
        "What is the output of this code?\n",
        "\n",
        "def func(x):\n",
        "\n",
        "res = 0\n",
        "\n",
        "for i in range(x):\n",
        "\n",
        "res += i\n",
        "\n",
        "return res\n",
        "\n",
        "print(func(4))\n",
        "\n",
        "\n",
        "Ans : 6"
      ],
      "metadata": {
        "id": "dt2swka3KOFr"
      }
    },
    {
      "cell_type": "code",
      "source": [
        "def func(x):\n",
        "  res = 0\n",
        "  for i in range(x):\n",
        "     res += i\n",
        "  return res\n",
        "\n",
        "print(func(4))"
      ],
      "metadata": {
        "colab": {
          "base_uri": "https://localhost:8080/"
        },
        "id": "wx2_I2dOKOFr",
        "outputId": "4b42c818-8b3d-41fe-838a-e09537f515b5"
      },
      "execution_count": null,
      "outputs": [
        {
          "output_type": "stream",
          "name": "stdout",
          "text": [
            "6\n"
          ]
        }
      ]
    },
    {
      "cell_type": "markdown",
      "source": [
        "#**Problem : Celcius to Fahrenheit Converter**\n",
        "\n",
        "Celsius to Fahrenheit\n",
        "\n",
        "\n",
        "You are making a Celsius to Fahrenheit converter.\n",
        "Write a function to take the Celsius value as an argument and return the corresponding Fahrenheit value.\n",
        "\n",
        "Sample Input\n",
        "36\n",
        "\n",
        "Sample Output\n",
        "96.8"
      ],
      "metadata": {
        "id": "1Wz-12ssMr7H"
      }
    },
    {
      "cell_type": "markdown",
      "source": [
        "***!***\n",
        "\n",
        "*The following equation is used to calculate the Fahrenheit value:*\n",
        "***9/5 * celsius + 32***"
      ],
      "metadata": {
        "id": "3Zhvr6fVM0vX"
      }
    },
    {
      "cell_type": "code",
      "source": [
        "celsius = int(input())\n",
        "\n",
        "def conv(c):\n",
        "    #your code goes here\n",
        "    print(9/5 * celsius + 32)\n",
        "\n",
        "fahrenheit = conv(celsius)"
      ],
      "metadata": {
        "colab": {
          "base_uri": "https://localhost:8080/"
        },
        "id": "OifXQOekNHE3",
        "outputId": "ff21844f-a9ad-4898-f257-de4360f76a86"
      },
      "execution_count": null,
      "outputs": [
        {
          "output_type": "stream",
          "name": "stdout",
          "text": [
            "36\n",
            "96.8\n"
          ]
        }
      ]
    },
    {
      "cell_type": "markdown",
      "source": [
        "#**Result : Celcius to Fahrenheit Converter**\n",
        "\n",
        "**Test Case 1**\n",
        "\n",
        "*Input*\n",
        "\n",
        "36\n",
        "\n",
        "*Your Output*\n",
        "\n",
        "96.8\n",
        "\n",
        "*Expected Output*\n",
        "\n",
        "96.8\n",
        "\n",
        "\n",
        "**Test Case 2**\n",
        "\n",
        "*Input*\n",
        "\n",
        "0\n",
        "\n",
        "*Your Output*\n",
        "\n",
        "32.0\n",
        "\n",
        "*Expected Output*\n",
        "\n",
        "32.0\n",
        "\n",
        "\n",
        "**Test Case 3**\n",
        "\n",
        "*Input*\n",
        "\n",
        "18\n",
        "\n",
        "*Your Output*\n",
        "\n",
        "64.4\n",
        "\n",
        "*Expected Output*\n",
        "\n",
        "64.4\n",
        "\n",
        "\n",
        "**Test Case 4**\n",
        "\n",
        "*This test case is hidden*"
      ],
      "metadata": {
        "id": "QKufMJEMQnoe"
      }
    },
    {
      "cell_type": "markdown",
      "source": [
        "#***Practice makes perfect!***\n",
        "\n",
        "*You have solved the challenge*\n",
        "\n",
        "**Continue**"
      ],
      "metadata": {
        "id": "wpl7nKHWRCUt"
      }
    },
    {
      "cell_type": "markdown",
      "source": [
        "#**Good habits are the key!**\n",
        "\n",
        "Well done. Coming next: Exceptions & Files"
      ],
      "metadata": {
        "id": "4sNccroWRPp0"
      }
    },
    {
      "cell_type": "markdown",
      "source": [
        "#****\n",
        "\n"
      ],
      "metadata": {
        "id": "Hil36G-UDo2w"
      }
    },
    {
      "cell_type": "code",
      "source": [
        ""
      ],
      "metadata": {
        "id": "gdYZpeqPDo2x"
      },
      "execution_count": null,
      "outputs": []
    },
    {
      "cell_type": "markdown",
      "source": [
        "***!***\n",
        "\n",
        "**"
      ],
      "metadata": {
        "id": "n8RXbgppDo2x"
      }
    },
    {
      "cell_type": "markdown",
      "source": [
        "#**\n",
        "\n"
      ],
      "metadata": {
        "id": "6oVDDbeuDo2y"
      }
    }
  ]
}