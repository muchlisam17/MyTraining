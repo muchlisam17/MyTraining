{
  "nbformat": 4,
  "nbformat_minor": 0,
  "metadata": {
    "colab": {
      "name": "SoloLearn Python : 3. Control Structures",
      "provenance": [],
      "authorship_tag": "ABX9TyMLgT/duwF2nD+E8Ysgq9FY",
      "include_colab_link": true
    },
    "kernelspec": {
      "name": "python3",
      "display_name": "Python 3"
    },
    "language_info": {
      "name": "python"
    }
  },
  "cells": [
    {
      "cell_type": "markdown",
      "metadata": {
        "id": "view-in-github",
        "colab_type": "text"
      },
      "source": [
        "<a href=\"https://colab.research.google.com/github/muchlisam17/MyTraining/blob/main/SoloLearn/Learning%20%3A%20Python%20Core/SoloLearn%20Python%20%3A%203.%20Control%20Structures.ipynb\" target=\"_parent\"><img src=\"https://colab.research.google.com/assets/colab-badge.svg\" alt=\"Open In Colab\"/></a>"
      ]
    },
    {
      "cell_type": "markdown",
      "source": [
        "From https://www.sololearn.com/learning/1073 for training"
      ],
      "metadata": {
        "id": "2lsTA36y-Vuv"
      }
    },
    {
      "cell_type": "markdown",
      "source": [
        "#**Control Structures** (13/13)"
      ],
      "metadata": {
        "id": "6PY8h4G5BlIt"
      }
    },
    {
      "cell_type": "markdown",
      "source": [
        "#**18.1. Lesson**\n",
        "\n",
        "**Booleans & Comparisons**"
      ],
      "metadata": {
        "id": "9k8mqCg0bUnx"
      }
    },
    {
      "cell_type": "markdown",
      "source": [
        "#****\n",
        "\n"
      ],
      "metadata": {
        "id": "le9qMJ_LbUny"
      }
    },
    {
      "cell_type": "code",
      "source": [
        ""
      ],
      "metadata": {
        "id": "woCgXZJfbUny"
      },
      "execution_count": null,
      "outputs": []
    },
    {
      "cell_type": "markdown",
      "source": [
        "***!***\n",
        "\n",
        "**"
      ],
      "metadata": {
        "id": "_AaEHbwbbUnz"
      }
    },
    {
      "cell_type": "markdown",
      "source": [
        "#**\n",
        "\n"
      ],
      "metadata": {
        "id": "Ogn3EeQKbUn0"
      }
    },
    {
      "cell_type": "markdown",
      "source": [
        "#****\n",
        "\n"
      ],
      "metadata": {
        "id": "UgnowjOWnLB6"
      }
    },
    {
      "cell_type": "code",
      "source": [
        ""
      ],
      "metadata": {
        "id": "y-o62mQBnLB7"
      },
      "execution_count": null,
      "outputs": []
    },
    {
      "cell_type": "markdown",
      "source": [
        "***!***\n",
        "\n",
        "**"
      ],
      "metadata": {
        "id": "G7KRu1gEnLB8"
      }
    },
    {
      "cell_type": "markdown",
      "source": [
        "#**\n",
        "\n"
      ],
      "metadata": {
        "id": "Y9Jcg1WNnLB9"
      }
    },
    {
      "cell_type": "markdown",
      "source": [
        "#**19.1. Lesson**\n",
        "\n",
        "**if Statements**"
      ],
      "metadata": {
        "id": "LkZUVKu2A-bK"
      }
    },
    {
      "cell_type": "markdown",
      "source": [
        "#****\n",
        "\n"
      ],
      "metadata": {
        "id": "uHzyDiTWA-bQ"
      }
    },
    {
      "cell_type": "code",
      "source": [
        ""
      ],
      "metadata": {
        "id": "LvfRGo3kA-bQ"
      },
      "execution_count": null,
      "outputs": []
    },
    {
      "cell_type": "markdown",
      "source": [
        "***!***\n",
        "\n",
        "**"
      ],
      "metadata": {
        "id": "20z3jStmA-bQ"
      }
    },
    {
      "cell_type": "markdown",
      "source": [
        "#**\n",
        "\n"
      ],
      "metadata": {
        "id": "aG8kPJJYA-bQ"
      }
    },
    {
      "cell_type": "markdown",
      "source": [
        "#****\n",
        "\n"
      ],
      "metadata": {
        "id": "Eeg1jkr-A-bR"
      }
    },
    {
      "cell_type": "code",
      "source": [
        ""
      ],
      "metadata": {
        "id": "NnH9dqnaA-bR"
      },
      "execution_count": null,
      "outputs": []
    },
    {
      "cell_type": "markdown",
      "source": [
        "***!***\n",
        "\n",
        "**"
      ],
      "metadata": {
        "id": "3ZCxrtMJA-bR"
      }
    },
    {
      "cell_type": "markdown",
      "source": [
        "#**\n",
        "\n"
      ],
      "metadata": {
        "id": "rsje4tAlA-bR"
      }
    },
    {
      "cell_type": "markdown",
      "source": [
        "#**20.1. Lesson**\n",
        "\n",
        "**else Statements**"
      ],
      "metadata": {
        "id": "CwtkNj81A_kV"
      }
    },
    {
      "cell_type": "markdown",
      "source": [
        "#****\n",
        "\n"
      ],
      "metadata": {
        "id": "Ak7vsqTvA_kW"
      }
    },
    {
      "cell_type": "code",
      "source": [
        ""
      ],
      "metadata": {
        "id": "PKKMoY-2A_kW"
      },
      "execution_count": null,
      "outputs": []
    },
    {
      "cell_type": "markdown",
      "source": [
        "***!***\n",
        "\n",
        "**"
      ],
      "metadata": {
        "id": "Oopw_GD5A_kW"
      }
    },
    {
      "cell_type": "markdown",
      "source": [
        "#**\n",
        "\n"
      ],
      "metadata": {
        "id": "gnlhkb8dA_kW"
      }
    },
    {
      "cell_type": "markdown",
      "source": [
        "#****\n",
        "\n"
      ],
      "metadata": {
        "id": "jPqbTP_iA_kW"
      }
    },
    {
      "cell_type": "code",
      "source": [
        ""
      ],
      "metadata": {
        "id": "qfcEsMIjA_kW"
      },
      "execution_count": null,
      "outputs": []
    },
    {
      "cell_type": "markdown",
      "source": [
        "***!***\n",
        "\n",
        "**"
      ],
      "metadata": {
        "id": "5_Iq-TI3A_kW"
      }
    },
    {
      "cell_type": "markdown",
      "source": [
        "#**\n",
        "\n"
      ],
      "metadata": {
        "id": "zj5JBOvoA_kX"
      }
    },
    {
      "cell_type": "markdown",
      "source": [
        "#**21.1. Lesson**\n",
        "\n",
        "**Boolean Logic**"
      ],
      "metadata": {
        "id": "y0TYmyrxBAD0"
      }
    },
    {
      "cell_type": "markdown",
      "source": [
        "#****\n",
        "\n"
      ],
      "metadata": {
        "id": "AlX1eATxBAD1"
      }
    },
    {
      "cell_type": "code",
      "source": [
        ""
      ],
      "metadata": {
        "id": "aUAz5xwVBAD1"
      },
      "execution_count": null,
      "outputs": []
    },
    {
      "cell_type": "markdown",
      "source": [
        "***!***\n",
        "\n",
        "**"
      ],
      "metadata": {
        "id": "-bS3HIbgBAD1"
      }
    },
    {
      "cell_type": "markdown",
      "source": [
        "#**\n",
        "\n"
      ],
      "metadata": {
        "id": "BtpZTX6TBAD1"
      }
    },
    {
      "cell_type": "markdown",
      "source": [
        "#****\n",
        "\n"
      ],
      "metadata": {
        "id": "K1qvDA8PBAD1"
      }
    },
    {
      "cell_type": "code",
      "source": [
        ""
      ],
      "metadata": {
        "id": "FQkaONEiBAD1"
      },
      "execution_count": null,
      "outputs": []
    },
    {
      "cell_type": "markdown",
      "source": [
        "***!***\n",
        "\n",
        "**"
      ],
      "metadata": {
        "id": "9AUre6bPBAD1"
      }
    },
    {
      "cell_type": "markdown",
      "source": [
        "#**\n",
        "\n"
      ],
      "metadata": {
        "id": "fLrUDWbaBAD2"
      }
    },
    {
      "cell_type": "markdown",
      "source": [
        "#**22.1. Lesson**\n",
        "\n",
        "**Multiple Operators & Conditions**"
      ],
      "metadata": {
        "id": "iBO0tRHQBAWB"
      }
    },
    {
      "cell_type": "markdown",
      "source": [
        "#****\n",
        "\n"
      ],
      "metadata": {
        "id": "55oKLLQsBAWB"
      }
    },
    {
      "cell_type": "code",
      "source": [
        ""
      ],
      "metadata": {
        "id": "XVn37SZoBAWB"
      },
      "execution_count": null,
      "outputs": []
    },
    {
      "cell_type": "markdown",
      "source": [
        "***!***\n",
        "\n",
        "**"
      ],
      "metadata": {
        "id": "ipds7hBgBAWC"
      }
    },
    {
      "cell_type": "markdown",
      "source": [
        "#**\n",
        "\n"
      ],
      "metadata": {
        "id": "mo_2mGpUBAWC"
      }
    },
    {
      "cell_type": "markdown",
      "source": [
        "#****\n",
        "\n"
      ],
      "metadata": {
        "id": "LO9w8d30BAWC"
      }
    },
    {
      "cell_type": "code",
      "source": [
        ""
      ],
      "metadata": {
        "id": "ozJAC5x-BAWC"
      },
      "execution_count": null,
      "outputs": []
    },
    {
      "cell_type": "markdown",
      "source": [
        "***!***\n",
        "\n",
        "**"
      ],
      "metadata": {
        "id": "N7JoX9-NBAWC"
      }
    },
    {
      "cell_type": "markdown",
      "source": [
        "#**\n",
        "\n"
      ],
      "metadata": {
        "id": "IMzAIV6MBAWC"
      }
    },
    {
      "cell_type": "markdown",
      "source": [
        "#**23.1. Lesson**\n",
        "\n",
        "**Lists**"
      ],
      "metadata": {
        "id": "wiyRT85_BAo0"
      }
    },
    {
      "cell_type": "markdown",
      "source": [
        "#****\n",
        "\n"
      ],
      "metadata": {
        "id": "K4-uJ19NBAo0"
      }
    },
    {
      "cell_type": "code",
      "source": [
        ""
      ],
      "metadata": {
        "id": "4uI2-eW4BAo0"
      },
      "execution_count": null,
      "outputs": []
    },
    {
      "cell_type": "markdown",
      "source": [
        "***!***\n",
        "\n",
        "**"
      ],
      "metadata": {
        "id": "w97KJrgHBAo0"
      }
    },
    {
      "cell_type": "markdown",
      "source": [
        "#**\n",
        "\n"
      ],
      "metadata": {
        "id": "0wkYBOciBAo0"
      }
    },
    {
      "cell_type": "markdown",
      "source": [
        "#****\n",
        "\n"
      ],
      "metadata": {
        "id": "MBR1ntJbBAo0"
      }
    },
    {
      "cell_type": "code",
      "source": [
        ""
      ],
      "metadata": {
        "id": "cai1P3TdBAo1"
      },
      "execution_count": null,
      "outputs": []
    },
    {
      "cell_type": "markdown",
      "source": [
        "***!***\n",
        "\n",
        "**"
      ],
      "metadata": {
        "id": "ZU0e5pbgBAo1"
      }
    },
    {
      "cell_type": "markdown",
      "source": [
        "#**\n",
        "\n"
      ],
      "metadata": {
        "id": "kqwlJYQdBAo1"
      }
    },
    {
      "cell_type": "markdown",
      "source": [
        "#**24.1. Lesson**\n",
        "\n",
        "**List Operations**"
      ],
      "metadata": {
        "id": "p9wRzfWHBA3N"
      }
    },
    {
      "cell_type": "markdown",
      "source": [
        "#****\n",
        "\n"
      ],
      "metadata": {
        "id": "AQnmaI1uBA3O"
      }
    },
    {
      "cell_type": "code",
      "source": [
        ""
      ],
      "metadata": {
        "id": "f_HmDgA4BA3O"
      },
      "execution_count": null,
      "outputs": []
    },
    {
      "cell_type": "markdown",
      "source": [
        "***!***\n",
        "\n",
        "**"
      ],
      "metadata": {
        "id": "e6AOtpFZBA3O"
      }
    },
    {
      "cell_type": "markdown",
      "source": [
        "#**\n",
        "\n"
      ],
      "metadata": {
        "id": "aw6nxyk4BA3O"
      }
    },
    {
      "cell_type": "markdown",
      "source": [
        "#****\n",
        "\n"
      ],
      "metadata": {
        "id": "wa-ONinqBA3O"
      }
    },
    {
      "cell_type": "code",
      "source": [
        ""
      ],
      "metadata": {
        "id": "UM0iMoLpBA3O"
      },
      "execution_count": null,
      "outputs": []
    },
    {
      "cell_type": "markdown",
      "source": [
        "***!***\n",
        "\n",
        "**"
      ],
      "metadata": {
        "id": "dXHEVwkLBA3O"
      }
    },
    {
      "cell_type": "markdown",
      "source": [
        "#**\n",
        "\n"
      ],
      "metadata": {
        "id": "C9Gug1QHBA3O"
      }
    },
    {
      "cell_type": "markdown",
      "source": [
        "#**25.1. Lesson**\n",
        "\n",
        "**List Functions**"
      ],
      "metadata": {
        "id": "0M-iROpKBBMH"
      }
    },
    {
      "cell_type": "markdown",
      "source": [
        "#****\n",
        "\n"
      ],
      "metadata": {
        "id": "c7g9us4CBBMH"
      }
    },
    {
      "cell_type": "code",
      "source": [
        ""
      ],
      "metadata": {
        "id": "WO6pTq1QBBMH"
      },
      "execution_count": null,
      "outputs": []
    },
    {
      "cell_type": "markdown",
      "source": [
        "***!***\n",
        "\n",
        "**"
      ],
      "metadata": {
        "id": "JJJAcxcKBBMH"
      }
    },
    {
      "cell_type": "markdown",
      "source": [
        "#**\n",
        "\n"
      ],
      "metadata": {
        "id": "5FkaEyBpBBMI"
      }
    },
    {
      "cell_type": "markdown",
      "source": [
        "#****\n",
        "\n"
      ],
      "metadata": {
        "id": "5Rn8uFpzBBMI"
      }
    },
    {
      "cell_type": "code",
      "source": [
        ""
      ],
      "metadata": {
        "id": "CXKTPCoeBBMI"
      },
      "execution_count": null,
      "outputs": []
    },
    {
      "cell_type": "markdown",
      "source": [
        "***!***\n",
        "\n",
        "**"
      ],
      "metadata": {
        "id": "mGYNv9BYBBMI"
      }
    },
    {
      "cell_type": "markdown",
      "source": [
        "#**\n",
        "\n"
      ],
      "metadata": {
        "id": "9YVXrFFEBBMI"
      }
    },
    {
      "cell_type": "markdown",
      "source": [
        "#**26.1. Lesson**\n",
        "\n",
        "**while Loops**"
      ],
      "metadata": {
        "id": "R5MGY-25BBZ3"
      }
    },
    {
      "cell_type": "markdown",
      "source": [
        "#****\n",
        "\n"
      ],
      "metadata": {
        "id": "Cphh-dSjBBZ4"
      }
    },
    {
      "cell_type": "code",
      "source": [
        ""
      ],
      "metadata": {
        "id": "syQHflFABBZ4"
      },
      "execution_count": null,
      "outputs": []
    },
    {
      "cell_type": "markdown",
      "source": [
        "***!***\n",
        "\n",
        "**"
      ],
      "metadata": {
        "id": "S76ncSCRBBZ4"
      }
    },
    {
      "cell_type": "markdown",
      "source": [
        "#**\n",
        "\n"
      ],
      "metadata": {
        "id": "s9_ScHoVBBZ4"
      }
    },
    {
      "cell_type": "markdown",
      "source": [
        "#****\n",
        "\n"
      ],
      "metadata": {
        "id": "o4ft8C0QBBZ4"
      }
    },
    {
      "cell_type": "code",
      "source": [
        ""
      ],
      "metadata": {
        "id": "IDqExMvLBBZ4"
      },
      "execution_count": null,
      "outputs": []
    },
    {
      "cell_type": "markdown",
      "source": [
        "***!***\n",
        "\n",
        "**"
      ],
      "metadata": {
        "id": "YBWxanffBBZ4"
      }
    },
    {
      "cell_type": "markdown",
      "source": [
        "#**\n",
        "\n"
      ],
      "metadata": {
        "id": "DJcP5nyhBBZ4"
      }
    },
    {
      "cell_type": "markdown",
      "source": [
        "#**27.1. Lesson**\n",
        "\n",
        "**for Loops**"
      ],
      "metadata": {
        "id": "vjkuKYahBBpE"
      }
    },
    {
      "cell_type": "markdown",
      "source": [
        "#****\n",
        "\n"
      ],
      "metadata": {
        "id": "4VlfIVLrBBpE"
      }
    },
    {
      "cell_type": "code",
      "source": [
        ""
      ],
      "metadata": {
        "id": "DCvGQAkMBBpE"
      },
      "execution_count": null,
      "outputs": []
    },
    {
      "cell_type": "markdown",
      "source": [
        "***!***\n",
        "\n",
        "**"
      ],
      "metadata": {
        "id": "XFyN9p2OBBpF"
      }
    },
    {
      "cell_type": "markdown",
      "source": [
        "#**\n",
        "\n"
      ],
      "metadata": {
        "id": "i9mkPohtBBpF"
      }
    },
    {
      "cell_type": "markdown",
      "source": [
        "#****\n",
        "\n"
      ],
      "metadata": {
        "id": "rYjOTEQ3BBpF"
      }
    },
    {
      "cell_type": "code",
      "source": [
        ""
      ],
      "metadata": {
        "id": "FGHtvwtVBBpF"
      },
      "execution_count": null,
      "outputs": []
    },
    {
      "cell_type": "markdown",
      "source": [
        "***!***\n",
        "\n",
        "**"
      ],
      "metadata": {
        "id": "OYpWrn-LBBpF"
      }
    },
    {
      "cell_type": "markdown",
      "source": [
        "#**\n",
        "\n"
      ],
      "metadata": {
        "id": "7mVxFmPoBBpF"
      }
    },
    {
      "cell_type": "markdown",
      "source": [
        "#**28.1. Lesson**\n",
        "\n",
        "**Range**"
      ],
      "metadata": {
        "id": "MEpJv8YGBB6p"
      }
    },
    {
      "cell_type": "markdown",
      "source": [
        "#****\n",
        "\n"
      ],
      "metadata": {
        "id": "IDp5EwRkBB6p"
      }
    },
    {
      "cell_type": "code",
      "source": [
        ""
      ],
      "metadata": {
        "id": "FSfNIYQKBB6p"
      },
      "execution_count": null,
      "outputs": []
    },
    {
      "cell_type": "markdown",
      "source": [
        "***!***\n",
        "\n",
        "**"
      ],
      "metadata": {
        "id": "xhC0JtoABB6p"
      }
    },
    {
      "cell_type": "markdown",
      "source": [
        "#**\n",
        "\n"
      ],
      "metadata": {
        "id": "WAwkZVIpBB6p"
      }
    },
    {
      "cell_type": "markdown",
      "source": [
        "#****\n",
        "\n"
      ],
      "metadata": {
        "id": "TGvbVM6RBB6p"
      }
    },
    {
      "cell_type": "code",
      "source": [
        ""
      ],
      "metadata": {
        "id": "WaR2Cv6KBB6q"
      },
      "execution_count": null,
      "outputs": []
    },
    {
      "cell_type": "markdown",
      "source": [
        "***!***\n",
        "\n",
        "**"
      ],
      "metadata": {
        "id": "tt9rmq4BBB6q"
      }
    },
    {
      "cell_type": "markdown",
      "source": [
        "#**\n",
        "\n"
      ],
      "metadata": {
        "id": "A-eBlYQUBB6q"
      }
    },
    {
      "cell_type": "markdown",
      "source": [
        "#**29.1. Lesson**\n",
        "\n",
        "**Module 3 Quiz**"
      ],
      "metadata": {
        "id": "3jqhAqrnbUzd"
      }
    },
    {
      "cell_type": "markdown",
      "source": [
        "#**Number 1**\n",
        "\n",
        "Fill in the blanks to define a function that takes two numbers as arguments and returns the smaller one.\n",
        "\n",
        "() min(x, y):\n",
        "\n",
        "  if x<=y ()\n",
        "\n",
        "  return x\n",
        "\n",
        "  else:\n",
        "\n",
        "  () y\n",
        "\n",
        "Ans : def, :, return"
      ],
      "metadata": {
        "id": "Zbn1QqLPDoYg"
      }
    },
    {
      "cell_type": "code",
      "source": [
        "def min(x, y):\n",
        "  if x<=y:\n",
        "    return x\n",
        "  else:\n",
        "    return y"
      ],
      "metadata": {
        "id": "C_rEEfFdDoYh"
      },
      "execution_count": null,
      "outputs": []
    },
    {
      "cell_type": "markdown",
      "source": [
        "#**Number 2**\n",
        "\n",
        "Rearrange the code to define a function that calculates the sum of all numbers from 0 to its argument.\n",
        "\n",
        "res = 0\n",
        "\n",
        "for i in range(x):\n",
        "\n",
        "return res\n",
        "\n",
        "def sum(x):\n",
        "\n",
        "res += i\n",
        "\n",
        "Ans : \n",
        "\n",
        "def sum(x):\n",
        "\n",
        "res = 0\n",
        "\n",
        "for i in range(x):\n",
        "\n",
        "  res += i\n",
        "\n",
        "return res"
      ],
      "metadata": {
        "id": "IGJf1tfnKNXw"
      }
    },
    {
      "cell_type": "code",
      "source": [
        "def sum(x):\n",
        "  res = 0\n",
        "  for i in range(x):\n",
        "    res += i\n",
        "  return res"
      ],
      "metadata": {
        "id": "E30_aFmaKNXx"
      },
      "execution_count": null,
      "outputs": []
    },
    {
      "cell_type": "markdown",
      "source": [
        "#**Number 3**\n",
        "\n",
        "How would you refer to the randint function if it was imported like this?\n",
        "from random import randint as rnd_int\n",
        "\n",
        "rnd_int\n",
        "\n",
        "randint\n",
        "\n",
        "random.rnd_int\n",
        "\n",
        "Ans : rnd_int"
      ],
      "metadata": {
        "id": "6g9xKmpsKN2V"
      }
    },
    {
      "cell_type": "code",
      "source": [
        ""
      ],
      "metadata": {
        "id": "K6UgjkVmKN2V"
      },
      "execution_count": null,
      "outputs": []
    },
    {
      "cell_type": "markdown",
      "source": [
        "#**Number 4**\n",
        "\n",
        "What is the highest number output by this code?\n",
        "\n",
        "def print_nums(x):\n",
        "\n",
        "for i in range(x):\n",
        "\n",
        "print(i)\n",
        "\n",
        "return\n",
        "\n",
        "print_nums(10)\n",
        "\n",
        "Ans : 0"
      ],
      "metadata": {
        "id": "xiWzTFczKN-Q"
      }
    },
    {
      "cell_type": "code",
      "source": [
        "def print_nums(x):\n",
        "  for i in range(x):\n",
        "    print(i)\n",
        "    return\n",
        "print_nums(10)\n"
      ],
      "metadata": {
        "colab": {
          "base_uri": "https://localhost:8080/"
        },
        "id": "KmD0V4XYKN-Q",
        "outputId": "bdf52e5c-c012-4c35-9d5d-2b3bfc681620"
      },
      "execution_count": null,
      "outputs": [
        {
          "output_type": "stream",
          "name": "stdout",
          "text": [
            "0\n"
          ]
        }
      ]
    },
    {
      "cell_type": "markdown",
      "source": [
        "#**Number 5**\n",
        "\n",
        "What is the output of this code?\n",
        "\n",
        "def func(x):\n",
        "\n",
        "res = 0\n",
        "\n",
        "for i in range(x):\n",
        "\n",
        "res += i\n",
        "\n",
        "return res\n",
        "\n",
        "print(func(4))\n",
        "\n",
        "\n",
        "Ans : 6"
      ],
      "metadata": {
        "id": "dt2swka3KOFr"
      }
    },
    {
      "cell_type": "code",
      "source": [
        "def func(x):\n",
        "  res = 0\n",
        "  for i in range(x):\n",
        "     res += i\n",
        "  return res\n",
        "\n",
        "print(func(4))"
      ],
      "metadata": {
        "colab": {
          "base_uri": "https://localhost:8080/"
        },
        "id": "wx2_I2dOKOFr",
        "outputId": "4b42c818-8b3d-41fe-838a-e09537f515b5"
      },
      "execution_count": null,
      "outputs": [
        {
          "output_type": "stream",
          "name": "stdout",
          "text": [
            "6\n"
          ]
        }
      ]
    },
    {
      "cell_type": "markdown",
      "source": [
        "#**30 Code Project**\n",
        "\n",
        "**FizzBuzz**"
      ],
      "metadata": {
        "id": "-L1kaSYZYed7"
      }
    },
    {
      "cell_type": "markdown",
      "source": [
        "#**Problem : Celcius to Fahrenheit Converter**\n",
        "\n",
        "Celsius to Fahrenheit\n",
        "\n",
        "\n",
        "You are making a Celsius to Fahrenheit converter.\n",
        "Write a function to take the Celsius value as an argument and return the corresponding Fahrenheit value.\n",
        "\n",
        "Sample Input\n",
        "36\n",
        "\n",
        "Sample Output\n",
        "96.8"
      ],
      "metadata": {
        "id": "1Wz-12ssMr7H"
      }
    },
    {
      "cell_type": "markdown",
      "source": [
        "***!***\n",
        "\n",
        "*The following equation is used to calculate the Fahrenheit value:*\n",
        "***9/5 * celsius + 32***"
      ],
      "metadata": {
        "id": "3Zhvr6fVM0vX"
      }
    },
    {
      "cell_type": "code",
      "source": [
        "celsius = int(input())\n",
        "\n",
        "def conv(c):\n",
        "    #your code goes here\n",
        "    print(9/5 * celsius + 32)\n",
        "\n",
        "fahrenheit = conv(celsius)"
      ],
      "metadata": {
        "colab": {
          "base_uri": "https://localhost:8080/"
        },
        "id": "OifXQOekNHE3",
        "outputId": "ff21844f-a9ad-4898-f257-de4360f76a86"
      },
      "execution_count": null,
      "outputs": [
        {
          "output_type": "stream",
          "name": "stdout",
          "text": [
            "36\n",
            "96.8\n"
          ]
        }
      ]
    },
    {
      "cell_type": "markdown",
      "source": [
        "#**Result : Celcius to Fahrenheit Converter**\n",
        "\n",
        "**Test Case 1**\n",
        "\n",
        "*Input*\n",
        "\n",
        "36\n",
        "\n",
        "*Your Output*\n",
        "\n",
        "96.8\n",
        "\n",
        "*Expected Output*\n",
        "\n",
        "96.8\n",
        "\n",
        "\n",
        "**Test Case 2**\n",
        "\n",
        "*Input*\n",
        "\n",
        "0\n",
        "\n",
        "*Your Output*\n",
        "\n",
        "32.0\n",
        "\n",
        "*Expected Output*\n",
        "\n",
        "32.0\n",
        "\n",
        "\n",
        "**Test Case 3**\n",
        "\n",
        "*Input*\n",
        "\n",
        "18\n",
        "\n",
        "*Your Output*\n",
        "\n",
        "64.4\n",
        "\n",
        "*Expected Output*\n",
        "\n",
        "64.4\n",
        "\n",
        "\n",
        "**Test Case 4**\n",
        "\n",
        "*This test case is hidden*"
      ],
      "metadata": {
        "id": "QKufMJEMQnoe"
      }
    },
    {
      "cell_type": "markdown",
      "source": [
        "***Practice makes perfect!***\n",
        "\n",
        "*You have solved the challenge*\n",
        "\n",
        "**Continue**"
      ],
      "metadata": {
        "id": "wpl7nKHWRCUt"
      }
    },
    {
      "cell_type": "markdown",
      "source": [
        "**Good habits are the key!**\n",
        "\n",
        "Well done. Coming next: Exceptions & Files"
      ],
      "metadata": {
        "id": "4sNccroWRPp0"
      }
    }
  ]
}