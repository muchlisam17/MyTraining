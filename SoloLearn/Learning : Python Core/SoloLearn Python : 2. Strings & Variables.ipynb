{
  "nbformat": 4,
  "nbformat_minor": 0,
  "metadata": {
    "colab": {
      "name": "SoloLearn Python : 2. Strings & Variables",
      "provenance": [],
      "authorship_tag": "ABX9TyMfmD43S3ZtR3iQdHRvBp4Y",
      "include_colab_link": true
    },
    "kernelspec": {
      "name": "python3",
      "display_name": "Python 3"
    },
    "language_info": {
      "name": "python"
    }
  },
  "cells": [
    {
      "cell_type": "markdown",
      "metadata": {
        "id": "view-in-github",
        "colab_type": "text"
      },
      "source": [
        "<a href=\"https://colab.research.google.com/github/muchlisam17/MyTraining/blob/main/SoloLearn/Learning%20%3A%20Python%20Core/SoloLearn%20Python%20%3A%202.%20Strings%20%26%20Variables.ipynb\" target=\"_parent\"><img src=\"https://colab.research.google.com/assets/colab-badge.svg\" alt=\"Open In Colab\"/></a>"
      ]
    },
    {
      "cell_type": "markdown",
      "source": [
        "From https://www.sololearn.com/learning/1073 for training"
      ],
      "metadata": {
        "id": "2lsTA36y-Vuv"
      }
    },
    {
      "cell_type": "markdown",
      "source": [
        "# **Strings & Variables** (10/10)"
      ],
      "metadata": {
        "id": "6PY8h4G5BlIt"
      }
    },
    {
      "cell_type": "markdown",
      "source": [
        "#**8.1. Lesson**\n",
        "\n",
        "**Strings**"
      ],
      "metadata": {
        "id": "9k8mqCg0bUnx"
      }
    },
    {
      "cell_type": "markdown",
      "source": [
        "#****\n",
        "\n"
      ],
      "metadata": {
        "id": "le9qMJ_LbUny"
      }
    },
    {
      "cell_type": "code",
      "source": [
        ""
      ],
      "metadata": {
        "id": "woCgXZJfbUny"
      },
      "execution_count": null,
      "outputs": []
    },
    {
      "cell_type": "markdown",
      "source": [
        "***!***\n",
        "\n",
        "**"
      ],
      "metadata": {
        "id": "_AaEHbwbbUnz"
      }
    },
    {
      "cell_type": "markdown",
      "source": [
        "#**\n",
        "\n"
      ],
      "metadata": {
        "id": "Ogn3EeQKbUn0"
      }
    },
    {
      "cell_type": "markdown",
      "source": [
        "#****\n",
        "\n"
      ],
      "metadata": {
        "id": "UgnowjOWnLB6"
      }
    },
    {
      "cell_type": "code",
      "source": [
        ""
      ],
      "metadata": {
        "id": "y-o62mQBnLB7"
      },
      "execution_count": null,
      "outputs": []
    },
    {
      "cell_type": "markdown",
      "source": [
        "***!***\n",
        "\n",
        "**"
      ],
      "metadata": {
        "id": "G7KRu1gEnLB8"
      }
    },
    {
      "cell_type": "markdown",
      "source": [
        "#**\n",
        "\n"
      ],
      "metadata": {
        "id": "Y9Jcg1WNnLB9"
      }
    },
    {
      "cell_type": "markdown",
      "source": [
        "#**9.1. Lesson**\n",
        "\n",
        "**Newlines**"
      ],
      "metadata": {
        "id": "OE0we14Jj8Zq"
      }
    },
    {
      "cell_type": "markdown",
      "source": [
        "#****\n",
        "\n"
      ],
      "metadata": {
        "id": "H17WjgAij8Zr"
      }
    },
    {
      "cell_type": "code",
      "source": [
        ""
      ],
      "metadata": {
        "id": "gq0y6N9Oj8Zr"
      },
      "execution_count": null,
      "outputs": []
    },
    {
      "cell_type": "markdown",
      "source": [
        "***!***\n",
        "\n",
        "**"
      ],
      "metadata": {
        "id": "3jDywUJ3j8Zr"
      }
    },
    {
      "cell_type": "markdown",
      "source": [
        "#**\n",
        "\n"
      ],
      "metadata": {
        "id": "vdW05F13j8Zr"
      }
    },
    {
      "cell_type": "markdown",
      "source": [
        "#****\n",
        "\n"
      ],
      "metadata": {
        "id": "j-hfUYE3j8Zr"
      }
    },
    {
      "cell_type": "code",
      "source": [
        ""
      ],
      "metadata": {
        "id": "fOYGN1Qoj8Zs"
      },
      "execution_count": null,
      "outputs": []
    },
    {
      "cell_type": "markdown",
      "source": [
        "***!***\n",
        "\n",
        "**"
      ],
      "metadata": {
        "id": "tkaLUtB3j8Zs"
      }
    },
    {
      "cell_type": "markdown",
      "source": [
        "#**\n",
        "\n"
      ],
      "metadata": {
        "id": "zB3umm37j8Zs"
      }
    },
    {
      "cell_type": "markdown",
      "source": [
        "#**10.1. Lesson**\n",
        "\n",
        "**String Operations**"
      ],
      "metadata": {
        "id": "qODoonTWj9ph"
      }
    },
    {
      "cell_type": "markdown",
      "source": [
        "#****\n",
        "\n"
      ],
      "metadata": {
        "id": "2LBhCOGbj9pi"
      }
    },
    {
      "cell_type": "code",
      "source": [
        ""
      ],
      "metadata": {
        "id": "Remqb4N9j9pj"
      },
      "execution_count": null,
      "outputs": []
    },
    {
      "cell_type": "markdown",
      "source": [
        "***!***\n",
        "\n",
        "**"
      ],
      "metadata": {
        "id": "2bjYBR4vj9pj"
      }
    },
    {
      "cell_type": "markdown",
      "source": [
        "#**\n",
        "\n"
      ],
      "metadata": {
        "id": "sG05LJyhj9pk"
      }
    },
    {
      "cell_type": "markdown",
      "source": [
        "#****\n",
        "\n"
      ],
      "metadata": {
        "id": "w9stl1Fwj9pk"
      }
    },
    {
      "cell_type": "code",
      "source": [
        ""
      ],
      "metadata": {
        "id": "6hb3byS0j9pl"
      },
      "execution_count": null,
      "outputs": []
    },
    {
      "cell_type": "markdown",
      "source": [
        "***!***\n",
        "\n",
        "**"
      ],
      "metadata": {
        "id": "A_EJ4V2Dj9pl"
      }
    },
    {
      "cell_type": "markdown",
      "source": [
        "#**\n",
        "\n"
      ],
      "metadata": {
        "id": "IyW73aLsj9pm"
      }
    },
    {
      "cell_type": "markdown",
      "source": [
        "#**11.1. Lesson**\n",
        "\n",
        "**Variables**"
      ],
      "metadata": {
        "id": "oEOpbBLdj-dV"
      }
    },
    {
      "cell_type": "markdown",
      "source": [
        "#****\n",
        "\n"
      ],
      "metadata": {
        "id": "Ekh-qqABj-dV"
      }
    },
    {
      "cell_type": "code",
      "source": [
        ""
      ],
      "metadata": {
        "id": "Wn8eMO0Tj-dV"
      },
      "execution_count": null,
      "outputs": []
    },
    {
      "cell_type": "markdown",
      "source": [
        "***!***\n",
        "\n",
        "**"
      ],
      "metadata": {
        "id": "Q4vgL_odj-dV"
      }
    },
    {
      "cell_type": "markdown",
      "source": [
        "#**\n",
        "\n"
      ],
      "metadata": {
        "id": "JBRV1DSPj-dV"
      }
    },
    {
      "cell_type": "markdown",
      "source": [
        "#****\n",
        "\n"
      ],
      "metadata": {
        "id": "5Xu4Wwiwj-dV"
      }
    },
    {
      "cell_type": "code",
      "source": [
        ""
      ],
      "metadata": {
        "id": "w2Zt14mvj-dV"
      },
      "execution_count": null,
      "outputs": []
    },
    {
      "cell_type": "markdown",
      "source": [
        "***!***\n",
        "\n",
        "**"
      ],
      "metadata": {
        "id": "PKj3wM4Oj-dW"
      }
    },
    {
      "cell_type": "markdown",
      "source": [
        "#**\n",
        "\n"
      ],
      "metadata": {
        "id": "-RpMk9Snj-dW"
      }
    },
    {
      "cell_type": "markdown",
      "source": [
        "#**12.1. Lesson**\n",
        "\n",
        "**Working with Variables**"
      ],
      "metadata": {
        "id": "9sFdN5dXj-0Y"
      }
    },
    {
      "cell_type": "markdown",
      "source": [
        "#****\n",
        "\n"
      ],
      "metadata": {
        "id": "oAd-D0V1j-0Y"
      }
    },
    {
      "cell_type": "code",
      "source": [
        ""
      ],
      "metadata": {
        "id": "Jv78xAEOj-0Y"
      },
      "execution_count": null,
      "outputs": []
    },
    {
      "cell_type": "markdown",
      "source": [
        "***!***\n",
        "\n",
        "**"
      ],
      "metadata": {
        "id": "4KrRv5W7j-0Z"
      }
    },
    {
      "cell_type": "markdown",
      "source": [
        "#**\n",
        "\n"
      ],
      "metadata": {
        "id": "q9uRl-sAj-0Z"
      }
    },
    {
      "cell_type": "markdown",
      "source": [
        "#****\n",
        "\n"
      ],
      "metadata": {
        "id": "ORwHthmxj-0Z"
      }
    },
    {
      "cell_type": "code",
      "source": [
        ""
      ],
      "metadata": {
        "id": "jm-gdtmZj-0Z"
      },
      "execution_count": null,
      "outputs": []
    },
    {
      "cell_type": "markdown",
      "source": [
        "***!***\n",
        "\n",
        "**"
      ],
      "metadata": {
        "id": "2wmjkQ3pj-0Z"
      }
    },
    {
      "cell_type": "markdown",
      "source": [
        "#**\n",
        "\n"
      ],
      "metadata": {
        "id": "goOsWSXAj-0Z"
      }
    },
    {
      "cell_type": "markdown",
      "source": [
        "#**13.1. Lesson**\n",
        "\n",
        "**Taking User Input**"
      ],
      "metadata": {
        "id": "38j29aRoj_JU"
      }
    },
    {
      "cell_type": "markdown",
      "source": [
        "#****\n",
        "\n"
      ],
      "metadata": {
        "id": "TZBg_mdMj_JU"
      }
    },
    {
      "cell_type": "code",
      "source": [
        ""
      ],
      "metadata": {
        "id": "X6y5jA8Qj_JU"
      },
      "execution_count": null,
      "outputs": []
    },
    {
      "cell_type": "markdown",
      "source": [
        "***!***\n",
        "\n",
        "**"
      ],
      "metadata": {
        "id": "5EsrXGtfj_JU"
      }
    },
    {
      "cell_type": "markdown",
      "source": [
        "#**\n",
        "\n"
      ],
      "metadata": {
        "id": "yTlyVWSlj_JU"
      }
    },
    {
      "cell_type": "markdown",
      "source": [
        "#****\n",
        "\n"
      ],
      "metadata": {
        "id": "pHh2PQfoj_JV"
      }
    },
    {
      "cell_type": "code",
      "source": [
        ""
      ],
      "metadata": {
        "id": "MJdZCgaAj_JV"
      },
      "execution_count": null,
      "outputs": []
    },
    {
      "cell_type": "markdown",
      "source": [
        "***!***\n",
        "\n",
        "**"
      ],
      "metadata": {
        "id": "w-KodciDj_JV"
      }
    },
    {
      "cell_type": "markdown",
      "source": [
        "#**\n",
        "\n"
      ],
      "metadata": {
        "id": "uYZk9--tj_JV"
      }
    },
    {
      "cell_type": "markdown",
      "source": [
        "#**14.1. Lesson**\n",
        "\n",
        "**Working with Input**"
      ],
      "metadata": {
        "id": "J0S8SJ8Vj_eG"
      }
    },
    {
      "cell_type": "markdown",
      "source": [
        "#****\n",
        "\n"
      ],
      "metadata": {
        "id": "BiTL2QNIj_eH"
      }
    },
    {
      "cell_type": "code",
      "source": [
        ""
      ],
      "metadata": {
        "id": "w39mFglhj_eH"
      },
      "execution_count": null,
      "outputs": []
    },
    {
      "cell_type": "markdown",
      "source": [
        "***!***\n",
        "\n",
        "**"
      ],
      "metadata": {
        "id": "Okyr2Jlhj_eH"
      }
    },
    {
      "cell_type": "markdown",
      "source": [
        "#**\n",
        "\n"
      ],
      "metadata": {
        "id": "3FhfEKQjj_eH"
      }
    },
    {
      "cell_type": "markdown",
      "source": [
        "#****\n",
        "\n"
      ],
      "metadata": {
        "id": "XZnzfZjij_eH"
      }
    },
    {
      "cell_type": "code",
      "source": [
        ""
      ],
      "metadata": {
        "id": "yIY9iW_Fj_eH"
      },
      "execution_count": null,
      "outputs": []
    },
    {
      "cell_type": "markdown",
      "source": [
        "***!***\n",
        "\n",
        "**"
      ],
      "metadata": {
        "id": "SCzzbnixj_eH"
      }
    },
    {
      "cell_type": "markdown",
      "source": [
        "#**\n",
        "\n"
      ],
      "metadata": {
        "id": "QyVx4l_tj_eH"
      }
    },
    {
      "cell_type": "markdown",
      "source": [
        "#**15.1. Lesson**\n",
        "\n",
        "**In-Place and Walrus Operations**"
      ],
      "metadata": {
        "id": "igYSMz8xj_wU"
      }
    },
    {
      "cell_type": "markdown",
      "source": [
        "#****\n",
        "\n"
      ],
      "metadata": {
        "id": "caW0tkg5j_wV"
      }
    },
    {
      "cell_type": "code",
      "source": [
        ""
      ],
      "metadata": {
        "id": "yBPZX-IIj_wW"
      },
      "execution_count": null,
      "outputs": []
    },
    {
      "cell_type": "markdown",
      "source": [
        "***!***\n",
        "\n",
        "**"
      ],
      "metadata": {
        "id": "Lz0mVUZxj_wW"
      }
    },
    {
      "cell_type": "markdown",
      "source": [
        "#**\n",
        "\n"
      ],
      "metadata": {
        "id": "qdt7bvkTj_wX"
      }
    },
    {
      "cell_type": "markdown",
      "source": [
        "#****\n",
        "\n"
      ],
      "metadata": {
        "id": "5Pl4Eo40j_wY"
      }
    },
    {
      "cell_type": "code",
      "source": [
        ""
      ],
      "metadata": {
        "id": "rvmhaq7Hj_wY"
      },
      "execution_count": null,
      "outputs": []
    },
    {
      "cell_type": "markdown",
      "source": [
        "***!***\n",
        "\n",
        "**"
      ],
      "metadata": {
        "id": "xIw1O15Hj_wY"
      }
    },
    {
      "cell_type": "markdown",
      "source": [
        "#**\n",
        "\n"
      ],
      "metadata": {
        "id": "_XoE332rj_wY"
      }
    },
    {
      "cell_type": "markdown",
      "source": [
        "#****\n",
        "\n"
      ],
      "metadata": {
        "id": "P2dPbxYukACW"
      }
    },
    {
      "cell_type": "code",
      "source": [
        ""
      ],
      "metadata": {
        "id": "CJyBIhAmkACX"
      },
      "execution_count": null,
      "outputs": []
    },
    {
      "cell_type": "markdown",
      "source": [
        "***!***\n",
        "\n",
        "**"
      ],
      "metadata": {
        "id": "uyaq7kOckACX"
      }
    },
    {
      "cell_type": "markdown",
      "source": [
        "#**\n",
        "\n"
      ],
      "metadata": {
        "id": "V5FjyujZkACY"
      }
    },
    {
      "cell_type": "markdown",
      "source": [
        "#**16.1. Lesson**\n",
        "\n",
        "**Module 2 Quiz**"
      ],
      "metadata": {
        "id": "3jqhAqrnbUzd"
      }
    },
    {
      "cell_type": "markdown",
      "source": [
        "#**Number 1**\n",
        "\n",
        "Fill in the blanks to define a function that takes two numbers as arguments and returns the smaller one.\n",
        "\n",
        "() min(x, y):\n",
        "\n",
        "  if x<=y ()\n",
        "\n",
        "  return x\n",
        "\n",
        "  else:\n",
        "\n",
        "  () y\n",
        "\n",
        "Ans : def, :, return"
      ],
      "metadata": {
        "id": "Zbn1QqLPDoYg"
      }
    },
    {
      "cell_type": "code",
      "source": [
        "def min(x, y):\n",
        "  if x<=y:\n",
        "    return x\n",
        "  else:\n",
        "    return y"
      ],
      "metadata": {
        "id": "C_rEEfFdDoYh"
      },
      "execution_count": null,
      "outputs": []
    },
    {
      "cell_type": "markdown",
      "source": [
        "#**Number 2**\n",
        "\n",
        "Rearrange the code to define a function that calculates the sum of all numbers from 0 to its argument.\n",
        "\n",
        "res = 0\n",
        "\n",
        "for i in range(x):\n",
        "\n",
        "return res\n",
        "\n",
        "def sum(x):\n",
        "\n",
        "res += i\n",
        "\n",
        "Ans : \n",
        "\n",
        "def sum(x):\n",
        "\n",
        "res = 0\n",
        "\n",
        "for i in range(x):\n",
        "\n",
        "  res += i\n",
        "\n",
        "return res"
      ],
      "metadata": {
        "id": "IGJf1tfnKNXw"
      }
    },
    {
      "cell_type": "code",
      "source": [
        "def sum(x):\n",
        "  res = 0\n",
        "  for i in range(x):\n",
        "    res += i\n",
        "  return res"
      ],
      "metadata": {
        "id": "E30_aFmaKNXx"
      },
      "execution_count": null,
      "outputs": []
    },
    {
      "cell_type": "markdown",
      "source": [
        "#**Number 3**\n",
        "\n",
        "How would you refer to the randint function if it was imported like this?\n",
        "from random import randint as rnd_int\n",
        "\n",
        "rnd_int\n",
        "\n",
        "randint\n",
        "\n",
        "random.rnd_int\n",
        "\n",
        "Ans : rnd_int"
      ],
      "metadata": {
        "id": "6g9xKmpsKN2V"
      }
    },
    {
      "cell_type": "code",
      "source": [
        ""
      ],
      "metadata": {
        "id": "K6UgjkVmKN2V"
      },
      "execution_count": null,
      "outputs": []
    },
    {
      "cell_type": "markdown",
      "source": [
        "#**Number 4**\n",
        "\n",
        "What is the highest number output by this code?\n",
        "\n",
        "def print_nums(x):\n",
        "\n",
        "for i in range(x):\n",
        "\n",
        "print(i)\n",
        "\n",
        "return\n",
        "\n",
        "print_nums(10)\n",
        "\n",
        "Ans : 0"
      ],
      "metadata": {
        "id": "xiWzTFczKN-Q"
      }
    },
    {
      "cell_type": "code",
      "source": [
        "def print_nums(x):\n",
        "  for i in range(x):\n",
        "    print(i)\n",
        "    return\n",
        "print_nums(10)\n"
      ],
      "metadata": {
        "colab": {
          "base_uri": "https://localhost:8080/"
        },
        "id": "KmD0V4XYKN-Q",
        "outputId": "bdf52e5c-c012-4c35-9d5d-2b3bfc681620"
      },
      "execution_count": null,
      "outputs": [
        {
          "output_type": "stream",
          "name": "stdout",
          "text": [
            "0\n"
          ]
        }
      ]
    },
    {
      "cell_type": "markdown",
      "source": [
        "#**Number 5**\n",
        "\n",
        "What is the output of this code?\n",
        "\n",
        "def func(x):\n",
        "\n",
        "res = 0\n",
        "\n",
        "for i in range(x):\n",
        "\n",
        "res += i\n",
        "\n",
        "return res\n",
        "\n",
        "print(func(4))\n",
        "\n",
        "\n",
        "Ans : 6"
      ],
      "metadata": {
        "id": "dt2swka3KOFr"
      }
    },
    {
      "cell_type": "code",
      "source": [
        "def func(x):\n",
        "  res = 0\n",
        "  for i in range(x):\n",
        "     res += i\n",
        "  return res\n",
        "\n",
        "print(func(4))"
      ],
      "metadata": {
        "colab": {
          "base_uri": "https://localhost:8080/"
        },
        "id": "wx2_I2dOKOFr",
        "outputId": "4b42c818-8b3d-41fe-838a-e09537f515b5"
      },
      "execution_count": null,
      "outputs": [
        {
          "output_type": "stream",
          "name": "stdout",
          "text": [
            "6\n"
          ]
        }
      ]
    },
    {
      "cell_type": "markdown",
      "source": [
        "#**17 Code Project**\n",
        "\n",
        "**Simple Calculator**"
      ],
      "metadata": {
        "id": "-L1kaSYZYed7"
      }
    },
    {
      "cell_type": "markdown",
      "source": [
        "#**Problem : Celcius to Fahrenheit Converter**\n",
        "\n",
        "Celsius to Fahrenheit\n",
        "\n",
        "\n",
        "You are making a Celsius to Fahrenheit converter.\n",
        "Write a function to take the Celsius value as an argument and return the corresponding Fahrenheit value.\n",
        "\n",
        "Sample Input\n",
        "36\n",
        "\n",
        "Sample Output\n",
        "96.8"
      ],
      "metadata": {
        "id": "1Wz-12ssMr7H"
      }
    },
    {
      "cell_type": "markdown",
      "source": [
        "***!***\n",
        "\n",
        "*The following equation is used to calculate the Fahrenheit value:*\n",
        "***9/5 * celsius + 32***"
      ],
      "metadata": {
        "id": "3Zhvr6fVM0vX"
      }
    },
    {
      "cell_type": "code",
      "source": [
        "celsius = int(input())\n",
        "\n",
        "def conv(c):\n",
        "    #your code goes here\n",
        "    print(9/5 * celsius + 32)\n",
        "\n",
        "fahrenheit = conv(celsius)"
      ],
      "metadata": {
        "colab": {
          "base_uri": "https://localhost:8080/"
        },
        "id": "OifXQOekNHE3",
        "outputId": "ff21844f-a9ad-4898-f257-de4360f76a86"
      },
      "execution_count": null,
      "outputs": [
        {
          "output_type": "stream",
          "name": "stdout",
          "text": [
            "36\n",
            "96.8\n"
          ]
        }
      ]
    },
    {
      "cell_type": "markdown",
      "source": [
        "#**Result : Celcius to Fahrenheit Converter**\n",
        "\n",
        "**Test Case 1**\n",
        "\n",
        "*Input*\n",
        "\n",
        "36\n",
        "\n",
        "*Your Output*\n",
        "\n",
        "96.8\n",
        "\n",
        "*Expected Output*\n",
        "\n",
        "96.8\n",
        "\n",
        "\n",
        "**Test Case 2**\n",
        "\n",
        "*Input*\n",
        "\n",
        "0\n",
        "\n",
        "*Your Output*\n",
        "\n",
        "32.0\n",
        "\n",
        "*Expected Output*\n",
        "\n",
        "32.0\n",
        "\n",
        "\n",
        "**Test Case 3**\n",
        "\n",
        "*Input*\n",
        "\n",
        "18\n",
        "\n",
        "*Your Output*\n",
        "\n",
        "64.4\n",
        "\n",
        "*Expected Output*\n",
        "\n",
        "64.4\n",
        "\n",
        "\n",
        "**Test Case 4**\n",
        "\n",
        "*This test case is hidden*"
      ],
      "metadata": {
        "id": "QKufMJEMQnoe"
      }
    },
    {
      "cell_type": "markdown",
      "source": [
        "***Practice makes perfect!***\n",
        "\n",
        "*You have solved the challenge*\n",
        "\n",
        "**Continue**"
      ],
      "metadata": {
        "id": "wpl7nKHWRCUt"
      }
    },
    {
      "cell_type": "markdown",
      "source": [
        "**Good habits are the key!**\n",
        "\n",
        "Well done. Coming next: Exceptions & Files"
      ],
      "metadata": {
        "id": "4sNccroWRPp0"
      }
    }
  ]
}