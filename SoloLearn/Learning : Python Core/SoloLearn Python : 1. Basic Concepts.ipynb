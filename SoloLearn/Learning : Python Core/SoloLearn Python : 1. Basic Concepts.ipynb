{
  "nbformat": 4,
  "nbformat_minor": 0,
  "metadata": {
    "colab": {
      "name": "SoloLearn Python : 1. Basic Concepts",
      "provenance": [],
      "authorship_tag": "ABX9TyMk5kkTiHdz3upQmaJ0PdDl",
      "include_colab_link": true
    },
    "kernelspec": {
      "name": "python3",
      "display_name": "Python 3"
    },
    "language_info": {
      "name": "python"
    }
  },
  "cells": [
    {
      "cell_type": "markdown",
      "metadata": {
        "id": "view-in-github",
        "colab_type": "text"
      },
      "source": [
        "<a href=\"https://colab.research.google.com/github/muchlisam17/MyTraining/blob/main/SoloLearn/Learning%20%3A%20Python%20Core/SoloLearn%20Python%20%3A%201.%20Basic%20Concepts.ipynb\" target=\"_parent\"><img src=\"https://colab.research.google.com/assets/colab-badge.svg\" alt=\"Open In Colab\"/></a>"
      ]
    },
    {
      "cell_type": "markdown",
      "source": [
        "From https://www.sololearn.com/learning/1073 for training"
      ],
      "metadata": {
        "id": "2lsTA36y-Vuv"
      }
    },
    {
      "cell_type": "markdown",
      "source": [
        "#**Basic Concepts** (7/7)"
      ],
      "metadata": {
        "id": "6PY8h4G5BlIt"
      }
    },
    {
      "cell_type": "markdown",
      "source": [
        "#**1.1. Lesson**\n",
        "\n",
        "**Welcome to Python**"
      ],
      "metadata": {
        "id": "9k8mqCg0bUnx"
      }
    },
    {
      "cell_type": "markdown",
      "source": [
        "#**Welcome to Python**\n",
        "\n",
        "**Python** is a high-level programming language, with applications in numerous areas, including web programming, scripting, scientific computing, and artificial intelligence!\n",
        "\n",
        "It is very popular and used by organizations such as Google, NASA, the CIA, and Disney."
      ],
      "metadata": {
        "id": "le9qMJ_LbUny"
      }
    },
    {
      "cell_type": "markdown",
      "source": [
        "***!***\n",
        "\n",
        "*In this course we will be learning Python **version 3**, which is the most recent major version of Python.*"
      ],
      "metadata": {
        "id": "_AaEHbwbbUnz"
      }
    },
    {
      "cell_type": "markdown",
      "source": [
        "#*Welcome to Python*\n",
        "\n",
        "Python is a:\n",
        "\n",
        "Programming language\n",
        "\n",
        "Set of editing tools\n",
        "\n",
        "Development environment\n",
        "\n",
        "Ans : Programming language"
      ],
      "metadata": {
        "id": "Ogn3EeQKbUn0"
      }
    },
    {
      "cell_type": "markdown",
      "source": [
        "#**Printing text**\n",
        "\n",
        "Let's start off by creating a short program that displays \"Hello world!\".\n",
        "In Python, we use the **print** statement to output text.\n"
      ],
      "metadata": {
        "id": "UgnowjOWnLB6"
      }
    },
    {
      "cell_type": "code",
      "source": [
        "print('Hello world!')"
      ],
      "metadata": {
        "id": "y-o62mQBnLB7",
        "colab": {
          "base_uri": "https://localhost:8080/"
        },
        "outputId": "4a026f95-3be8-4671-f606-8a882314ee43"
      },
      "execution_count": 2,
      "outputs": [
        {
          "output_type": "stream",
          "name": "stdout",
          "text": [
            "Hello world!\n"
          ]
        }
      ]
    },
    {
      "cell_type": "markdown",
      "source": [
        "\n",
        "Note that the text should be enclosed into **single or double quotes**."
      ],
      "metadata": {
        "id": "-kMD7-MED45G"
      }
    },
    {
      "cell_type": "markdown",
      "source": [
        "***!***\n",
        "\n",
        "*The **print** statement needs to be followed by parentheses, which enclose the output we want to generate.*"
      ],
      "metadata": {
        "id": "G7KRu1gEnLB8"
      }
    },
    {
      "cell_type": "markdown",
      "source": [
        "#*Printing text*\n",
        "\n",
        "Drag & drop the correct option to output \"Hi\".\n",
        "\n",
        "() (\"Hi\")\n",
        "\n",
        "output print\n",
        "\n",
        "Ans : print"
      ],
      "metadata": {
        "id": "Y9Jcg1WNnLB9"
      }
    },
    {
      "cell_type": "markdown",
      "source": [
        "#**Printing text**\n",
        "\n",
        "The **print** statement can also be used to output multiple lines of text.\n",
        "\n",
        "**For Example:**"
      ],
      "metadata": {
        "id": "ZRlaiYAvDnt7"
      }
    },
    {
      "cell_type": "code",
      "source": [
        "print('Hello world')\n",
        "print('Hello world')\n",
        "print('Spam and eggs...')"
      ],
      "metadata": {
        "colab": {
          "base_uri": "https://localhost:8080/"
        },
        "id": "b6EmEP0lDnt7",
        "outputId": "58699b1b-7733-447e-e4fc-c7473cdd1936"
      },
      "execution_count": 1,
      "outputs": [
        {
          "output_type": "stream",
          "name": "stdout",
          "text": [
            "Hello world\n",
            "Hello world\n",
            "Spam and eggs...\n"
          ]
        }
      ]
    },
    {
      "cell_type": "markdown",
      "source": [
        "Each print statement outputs text from a new line."
      ],
      "metadata": {
        "id": "J6r8sY-vERiL"
      }
    },
    {
      "cell_type": "markdown",
      "source": [
        "***!***\n",
        "\n",
        "*Python code often contains references to the comedy group **Monty Python**. This is why the words, \"spam\" and \"eggs\" are often used as placeholder variables in Python.*"
      ],
      "metadata": {
        "id": "BR19WA5fDnt7"
      }
    },
    {
      "cell_type": "markdown",
      "source": [
        "#*Printing text*\n",
        "\n",
        "Rearrange the code to generate the following output:\n",
        "\n",
        "A\n",
        "\n",
        "B\n",
        "\n",
        "C\n",
        "\n",
        "print(\"B\")\n",
        "\n",
        "print(\"A\")\n",
        "\n",
        "print(\"C\")\n",
        "\n",
        "Ans : \n",
        "\n",
        "print(\"A\")\n",
        "\n",
        "print(\"B\")\n",
        "\n",
        "print(\"C\")\n"
      ],
      "metadata": {
        "id": "vxx8EfEXDnt8"
      }
    },
    {
      "cell_type": "markdown",
      "source": [
        "#**Practice makes perfect!**\n",
        "\n",
        "Use our **Code Coach** exercise below to practice and write real code."
      ],
      "metadata": {
        "id": "YZnCVdqXDn1E"
      }
    },
    {
      "cell_type": "markdown",
      "source": [
        "#*Practice makes perfect!*\n",
        "\n",
        "Fill in the required parentheses to create a valid print statement.\n",
        "\n",
        "print () \"I love Python\" ()\n",
        "\n",
        "Ans : ( )"
      ],
      "metadata": {
        "id": "p0Jo1wXBDn1E"
      }
    },
    {
      "cell_type": "code",
      "source": [
        "print (\"I love Python\")"
      ],
      "metadata": {
        "colab": {
          "base_uri": "https://localhost:8080/"
        },
        "id": "EGUfY607Dn1E",
        "outputId": "0904464b-ed7f-47a1-a826-30fe1cdcf0ba"
      },
      "execution_count": 3,
      "outputs": [
        {
          "output_type": "stream",
          "name": "stdout",
          "text": [
            "I love Python\n"
          ]
        }
      ]
    },
    {
      "cell_type": "markdown",
      "source": [
        "#**2.1. Lesson**\n",
        "\n",
        "**Simple Operations**"
      ],
      "metadata": {
        "id": "PYL9WdSbxPNY"
      }
    },
    {
      "cell_type": "markdown",
      "source": [
        "#****\n",
        "\n"
      ],
      "metadata": {
        "id": "Ir_Zsqq0xPNd"
      }
    },
    {
      "cell_type": "code",
      "source": [
        ""
      ],
      "metadata": {
        "id": "cvoEUOUXxPNd"
      },
      "execution_count": null,
      "outputs": []
    },
    {
      "cell_type": "markdown",
      "source": [
        "***!***\n",
        "\n",
        "**"
      ],
      "metadata": {
        "id": "5sNNKAgbxPNe"
      }
    },
    {
      "cell_type": "markdown",
      "source": [
        "#**\n",
        "\n"
      ],
      "metadata": {
        "id": "7rXhlxcixPNe"
      }
    },
    {
      "cell_type": "markdown",
      "source": [
        "#****\n",
        "\n"
      ],
      "metadata": {
        "id": "4Pot2PsLxPNe"
      }
    },
    {
      "cell_type": "code",
      "source": [
        ""
      ],
      "metadata": {
        "id": "2ofKyqU5xPNe"
      },
      "execution_count": null,
      "outputs": []
    },
    {
      "cell_type": "markdown",
      "source": [
        "***!***\n",
        "\n",
        "**"
      ],
      "metadata": {
        "id": "iz0jBh8WxPNe"
      }
    },
    {
      "cell_type": "markdown",
      "source": [
        "#**\n",
        "\n"
      ],
      "metadata": {
        "id": "uxWT-V2bxPNe"
      }
    },
    {
      "cell_type": "markdown",
      "source": [
        "#**3.1. Lesson**\n",
        "\n",
        "**Floats**"
      ],
      "metadata": {
        "id": "0YlD-cWnxQMe"
      }
    },
    {
      "cell_type": "markdown",
      "source": [
        "#****\n",
        "\n"
      ],
      "metadata": {
        "id": "4PA6lcfvxQMf"
      }
    },
    {
      "cell_type": "code",
      "source": [
        ""
      ],
      "metadata": {
        "id": "MLi65Q36xQMf"
      },
      "execution_count": null,
      "outputs": []
    },
    {
      "cell_type": "markdown",
      "source": [
        "***!***\n",
        "\n",
        "**"
      ],
      "metadata": {
        "id": "H2qON6vExQMf"
      }
    },
    {
      "cell_type": "markdown",
      "source": [
        "#**\n",
        "\n"
      ],
      "metadata": {
        "id": "wfCrtfmxxQMf"
      }
    },
    {
      "cell_type": "markdown",
      "source": [
        "#****\n",
        "\n"
      ],
      "metadata": {
        "id": "-dhDByGrxQMf"
      }
    },
    {
      "cell_type": "code",
      "source": [
        ""
      ],
      "metadata": {
        "id": "C5vsDGdzxQMf"
      },
      "execution_count": null,
      "outputs": []
    },
    {
      "cell_type": "markdown",
      "source": [
        "***!***\n",
        "\n",
        "**"
      ],
      "metadata": {
        "id": "e6DjaAr9xQMf"
      }
    },
    {
      "cell_type": "markdown",
      "source": [
        "#**\n",
        "\n"
      ],
      "metadata": {
        "id": "1oUTIvfaxQMf"
      }
    },
    {
      "cell_type": "markdown",
      "source": [
        "#**4.1. Lesson**\n",
        "\n",
        "**Exponentiation**"
      ],
      "metadata": {
        "id": "DeTW3MyjxQqZ"
      }
    },
    {
      "cell_type": "markdown",
      "source": [
        "#****\n",
        "\n"
      ],
      "metadata": {
        "id": "eYtm274cxQqa"
      }
    },
    {
      "cell_type": "code",
      "source": [
        ""
      ],
      "metadata": {
        "id": "gzpftW2gxQqa"
      },
      "execution_count": null,
      "outputs": []
    },
    {
      "cell_type": "markdown",
      "source": [
        "***!***\n",
        "\n",
        "**"
      ],
      "metadata": {
        "id": "ANWY9GwjxQqb"
      }
    },
    {
      "cell_type": "markdown",
      "source": [
        "#**\n",
        "\n"
      ],
      "metadata": {
        "id": "nPm19QUqxQqb"
      }
    },
    {
      "cell_type": "markdown",
      "source": [
        "#****\n",
        "\n"
      ],
      "metadata": {
        "id": "dz8FQ6GyxQqc"
      }
    },
    {
      "cell_type": "code",
      "source": [
        ""
      ],
      "metadata": {
        "id": "Ahxmm67gxQqc"
      },
      "execution_count": null,
      "outputs": []
    },
    {
      "cell_type": "markdown",
      "source": [
        "***!***\n",
        "\n",
        "**"
      ],
      "metadata": {
        "id": "MoOZd8HPxQqd"
      }
    },
    {
      "cell_type": "markdown",
      "source": [
        "#**\n",
        "\n"
      ],
      "metadata": {
        "id": "gI7KwI_JxQqd"
      }
    },
    {
      "cell_type": "markdown",
      "source": [
        "#**5.1. Lesson**\n",
        "\n",
        "**Quotient & Remainder**"
      ],
      "metadata": {
        "id": "O4bcrHn3xRIh"
      }
    },
    {
      "cell_type": "markdown",
      "source": [
        "#****\n",
        "\n"
      ],
      "metadata": {
        "id": "AFiAjJ4WxRIh"
      }
    },
    {
      "cell_type": "code",
      "source": [
        ""
      ],
      "metadata": {
        "id": "E_CccqMcxRIh"
      },
      "execution_count": null,
      "outputs": []
    },
    {
      "cell_type": "markdown",
      "source": [
        "***!***\n",
        "\n",
        "**"
      ],
      "metadata": {
        "id": "w_pSasKMxRIi"
      }
    },
    {
      "cell_type": "markdown",
      "source": [
        "#**\n",
        "\n"
      ],
      "metadata": {
        "id": "rEv3hM2ZxRIi"
      }
    },
    {
      "cell_type": "markdown",
      "source": [
        "#****\n",
        "\n"
      ],
      "metadata": {
        "id": "8aXo4-kyxRIi"
      }
    },
    {
      "cell_type": "code",
      "source": [
        ""
      ],
      "metadata": {
        "id": "KQuZfeqdxRIi"
      },
      "execution_count": null,
      "outputs": []
    },
    {
      "cell_type": "markdown",
      "source": [
        "***!***\n",
        "\n",
        "**"
      ],
      "metadata": {
        "id": "w_m0TbBCxRIi"
      }
    },
    {
      "cell_type": "markdown",
      "source": [
        "#**\n",
        "\n"
      ],
      "metadata": {
        "id": "np701JUKxRIi"
      }
    },
    {
      "cell_type": "markdown",
      "source": [
        "#**6.1. Lesson**\n",
        "\n",
        "**Module 1 Quiz**"
      ],
      "metadata": {
        "id": "3jqhAqrnbUzd"
      }
    },
    {
      "cell_type": "markdown",
      "source": [
        "#**Number 1**\n",
        "\n",
        "Fill in the blanks to define a function that takes two numbers as arguments and returns the smaller one.\n",
        "\n",
        "() min(x, y):\n",
        "\n",
        "  if x<=y ()\n",
        "\n",
        "  return x\n",
        "\n",
        "  else:\n",
        "\n",
        "  () y\n",
        "\n",
        "Ans : def, :, return"
      ],
      "metadata": {
        "id": "Zbn1QqLPDoYg"
      }
    },
    {
      "cell_type": "code",
      "source": [
        "def min(x, y):\n",
        "  if x<=y:\n",
        "    return x\n",
        "  else:\n",
        "    return y"
      ],
      "metadata": {
        "id": "C_rEEfFdDoYh"
      },
      "execution_count": null,
      "outputs": []
    },
    {
      "cell_type": "markdown",
      "source": [
        "#**Number 2**\n",
        "\n",
        "Rearrange the code to define a function that calculates the sum of all numbers from 0 to its argument.\n",
        "\n",
        "res = 0\n",
        "\n",
        "for i in range(x):\n",
        "\n",
        "return res\n",
        "\n",
        "def sum(x):\n",
        "\n",
        "res += i\n",
        "\n",
        "Ans : \n",
        "\n",
        "def sum(x):\n",
        "\n",
        "res = 0\n",
        "\n",
        "for i in range(x):\n",
        "\n",
        "  res += i\n",
        "\n",
        "return res"
      ],
      "metadata": {
        "id": "IGJf1tfnKNXw"
      }
    },
    {
      "cell_type": "code",
      "source": [
        "def sum(x):\n",
        "  res = 0\n",
        "  for i in range(x):\n",
        "    res += i\n",
        "  return res"
      ],
      "metadata": {
        "id": "E30_aFmaKNXx"
      },
      "execution_count": null,
      "outputs": []
    },
    {
      "cell_type": "markdown",
      "source": [
        "#**Number 3**\n",
        "\n",
        "How would you refer to the randint function if it was imported like this?\n",
        "from random import randint as rnd_int\n",
        "\n",
        "rnd_int\n",
        "\n",
        "randint\n",
        "\n",
        "random.rnd_int\n",
        "\n",
        "Ans : rnd_int"
      ],
      "metadata": {
        "id": "6g9xKmpsKN2V"
      }
    },
    {
      "cell_type": "code",
      "source": [
        ""
      ],
      "metadata": {
        "id": "K6UgjkVmKN2V"
      },
      "execution_count": null,
      "outputs": []
    },
    {
      "cell_type": "markdown",
      "source": [
        "#**Number 4**\n",
        "\n",
        "What is the highest number output by this code?\n",
        "\n",
        "def print_nums(x):\n",
        "\n",
        "for i in range(x):\n",
        "\n",
        "print(i)\n",
        "\n",
        "return\n",
        "\n",
        "print_nums(10)\n",
        "\n",
        "Ans : 0"
      ],
      "metadata": {
        "id": "xiWzTFczKN-Q"
      }
    },
    {
      "cell_type": "code",
      "source": [
        "def print_nums(x):\n",
        "  for i in range(x):\n",
        "    print(i)\n",
        "    return\n",
        "print_nums(10)\n"
      ],
      "metadata": {
        "colab": {
          "base_uri": "https://localhost:8080/"
        },
        "id": "KmD0V4XYKN-Q",
        "outputId": "bdf52e5c-c012-4c35-9d5d-2b3bfc681620"
      },
      "execution_count": null,
      "outputs": [
        {
          "output_type": "stream",
          "name": "stdout",
          "text": [
            "0\n"
          ]
        }
      ]
    },
    {
      "cell_type": "markdown",
      "source": [
        "#**Number 5**\n",
        "\n",
        "What is the output of this code?\n",
        "\n",
        "def func(x):\n",
        "\n",
        "res = 0\n",
        "\n",
        "for i in range(x):\n",
        "\n",
        "res += i\n",
        "\n",
        "return res\n",
        "\n",
        "print(func(4))\n",
        "\n",
        "\n",
        "Ans : 6"
      ],
      "metadata": {
        "id": "dt2swka3KOFr"
      }
    },
    {
      "cell_type": "code",
      "source": [
        "def func(x):\n",
        "  res = 0\n",
        "  for i in range(x):\n",
        "     res += i\n",
        "  return res\n",
        "\n",
        "print(func(4))"
      ],
      "metadata": {
        "colab": {
          "base_uri": "https://localhost:8080/"
        },
        "id": "wx2_I2dOKOFr",
        "outputId": "4b42c818-8b3d-41fe-838a-e09537f515b5"
      },
      "execution_count": null,
      "outputs": [
        {
          "output_type": "stream",
          "name": "stdout",
          "text": [
            "6\n"
          ]
        }
      ]
    },
    {
      "cell_type": "markdown",
      "source": [
        "#**7 Code Project**\n",
        "\n",
        "**Exponentiation**"
      ],
      "metadata": {
        "id": "-L1kaSYZYed7"
      }
    },
    {
      "cell_type": "markdown",
      "source": [
        "#**Problem : Celcius to Fahrenheit Converter**\n",
        "\n",
        "Celsius to Fahrenheit\n",
        "\n",
        "\n",
        "You are making a Celsius to Fahrenheit converter.\n",
        "Write a function to take the Celsius value as an argument and return the corresponding Fahrenheit value.\n",
        "\n",
        "Sample Input\n",
        "36\n",
        "\n",
        "Sample Output\n",
        "96.8"
      ],
      "metadata": {
        "id": "1Wz-12ssMr7H"
      }
    },
    {
      "cell_type": "markdown",
      "source": [
        "***!***\n",
        "\n",
        "*The following equation is used to calculate the Fahrenheit value:*\n",
        "***9/5 * celsius + 32***"
      ],
      "metadata": {
        "id": "3Zhvr6fVM0vX"
      }
    },
    {
      "cell_type": "code",
      "source": [
        "celsius = int(input())\n",
        "\n",
        "def conv(c):\n",
        "    #your code goes here\n",
        "    print(9/5 * celsius + 32)\n",
        "\n",
        "fahrenheit = conv(celsius)"
      ],
      "metadata": {
        "colab": {
          "base_uri": "https://localhost:8080/"
        },
        "id": "OifXQOekNHE3",
        "outputId": "ff21844f-a9ad-4898-f257-de4360f76a86"
      },
      "execution_count": null,
      "outputs": [
        {
          "output_type": "stream",
          "name": "stdout",
          "text": [
            "36\n",
            "96.8\n"
          ]
        }
      ]
    },
    {
      "cell_type": "markdown",
      "source": [
        "#**Result : Celcius to Fahrenheit Converter**\n",
        "\n",
        "**Test Case 1**\n",
        "\n",
        "*Input*\n",
        "\n",
        "36\n",
        "\n",
        "*Your Output*\n",
        "\n",
        "96.8\n",
        "\n",
        "*Expected Output*\n",
        "\n",
        "96.8\n",
        "\n",
        "\n",
        "**Test Case 2**\n",
        "\n",
        "*Input*\n",
        "\n",
        "0\n",
        "\n",
        "*Your Output*\n",
        "\n",
        "32.0\n",
        "\n",
        "*Expected Output*\n",
        "\n",
        "32.0\n",
        "\n",
        "\n",
        "**Test Case 3**\n",
        "\n",
        "*Input*\n",
        "\n",
        "18\n",
        "\n",
        "*Your Output*\n",
        "\n",
        "64.4\n",
        "\n",
        "*Expected Output*\n",
        "\n",
        "64.4\n",
        "\n",
        "\n",
        "**Test Case 4**\n",
        "\n",
        "*This test case is hidden*"
      ],
      "metadata": {
        "id": "QKufMJEMQnoe"
      }
    },
    {
      "cell_type": "markdown",
      "source": [
        "***Practice makes perfect!***\n",
        "\n",
        "*You have solved the challenge*\n",
        "\n",
        "**Continue**"
      ],
      "metadata": {
        "id": "wpl7nKHWRCUt"
      }
    },
    {
      "cell_type": "markdown",
      "source": [
        "**Good habits are the key!**\n",
        "\n",
        "Well done. Coming next: Exceptions & Files"
      ],
      "metadata": {
        "id": "4sNccroWRPp0"
      }
    }
  ]
}