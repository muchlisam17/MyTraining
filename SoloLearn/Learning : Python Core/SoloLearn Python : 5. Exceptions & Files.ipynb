{
  "nbformat": 4,
  "nbformat_minor": 0,
  "metadata": {
    "colab": {
      "name": "SoloLearn Python : 4. Exceptions & Files",
      "provenance": [],
      "authorship_tag": "ABX9TyNvngAh4wo/yO+y5WZBQCME",
      "include_colab_link": true
    },
    "kernelspec": {
      "name": "python3",
      "display_name": "Python 3"
    },
    "language_info": {
      "name": "python"
    }
  },
  "cells": [
    {
      "cell_type": "markdown",
      "metadata": {
        "id": "view-in-github",
        "colab_type": "text"
      },
      "source": [
        "<a href=\"https://colab.research.google.com/github/muchlisam17/MyTraining/blob/main/SoloLearn/Learning%20%3A%20Python%20Core/SoloLearn%20Python%20%3A%204.%20Exceptions%20%26%20Files.ipynb\" target=\"_parent\"><img src=\"https://colab.research.google.com/assets/colab-badge.svg\" alt=\"Open In Colab\"/></a>"
      ]
    },
    {
      "cell_type": "markdown",
      "source": [
        "From https://www.sololearn.com/learning/1073 for training"
      ],
      "metadata": {
        "id": "2lsTA36y-Vuv"
      }
    },
    {
      "cell_type": "markdown",
      "source": [
        "#**Exceptions & Files** (11/11)"
      ],
      "metadata": {
        "id": "6PY8h4G5BlIt"
      }
    },
    {
      "cell_type": "markdown",
      "source": [
        "#**41.1. Lesson**\n",
        "\n",
        "**Exceptions**"
      ],
      "metadata": {
        "id": "w6nbY6fw-Z1E"
      }
    },
    {
      "cell_type": "markdown",
      "metadata": {
        "id": "1JGCQipLvvj8"
      },
      "source": [
        "#**Exception**\n",
        "\n",
        "You have already seen **exceptions** in previous code. They occur when something goes wrong, due to incorrect code or input. When an exception occurs, the program immediately stops.\n",
        "\n",
        "The following code produces the ZeroDivisionError exception by trying to divide 7 by 0.\n"
      ]
    },
    {
      "cell_type": "code",
      "source": [
        "num1 = 7\n",
        "num2 = 0\n",
        "print(num1/num2)"
      ],
      "metadata": {
        "colab": {
          "base_uri": "https://localhost:8080/",
          "height": 200
        },
        "id": "nUL4hCYFczu7",
        "outputId": "a8767e80-e539-4f74-d624-cca64743f594"
      },
      "execution_count": 1,
      "outputs": [
        {
          "output_type": "error",
          "ename": "ZeroDivisionError",
          "evalue": "ignored",
          "traceback": [
            "\u001b[0;31m---------------------------------------------------------------------------\u001b[0m",
            "\u001b[0;31mZeroDivisionError\u001b[0m                         Traceback (most recent call last)",
            "\u001b[0;32m<ipython-input-1-e4e18557d959>\u001b[0m in \u001b[0;36m<module>\u001b[0;34m()\u001b[0m\n\u001b[1;32m      1\u001b[0m \u001b[0mnum1\u001b[0m \u001b[0;34m=\u001b[0m \u001b[0;36m7\u001b[0m\u001b[0;34m\u001b[0m\u001b[0;34m\u001b[0m\u001b[0m\n\u001b[1;32m      2\u001b[0m \u001b[0mnum2\u001b[0m \u001b[0;34m=\u001b[0m \u001b[0;36m0\u001b[0m\u001b[0;34m\u001b[0m\u001b[0;34m\u001b[0m\u001b[0m\n\u001b[0;32m----> 3\u001b[0;31m \u001b[0mprint\u001b[0m\u001b[0;34m(\u001b[0m\u001b[0mnum1\u001b[0m\u001b[0;34m/\u001b[0m\u001b[0mnum2\u001b[0m\u001b[0;34m)\u001b[0m\u001b[0;34m\u001b[0m\u001b[0;34m\u001b[0m\u001b[0m\n\u001b[0m",
            "\u001b[0;31mZeroDivisionError\u001b[0m: division by zero"
          ]
        }
      ]
    },
    {
      "cell_type": "markdown",
      "source": [
        "***!***\n",
        "\n",
        "*Tap **Try It Yourself** to play around with the code!*"
      ],
      "metadata": {
        "id": "wZcmhIc79VIU"
      }
    },
    {
      "cell_type": "markdown",
      "source": [
        "#*Exceptions*\n",
        "\n",
        "What is an exception?\n",
        "\n",
        "A function\n",
        "\n",
        "An event that occurs due to incorrect code or input\n",
        "\n",
        "A variable\n",
        "\n",
        "Ans : An event that occurs due to incorrect code or input"
      ],
      "metadata": {
        "id": "lft9_ER580cm"
      }
    },
    {
      "cell_type": "code",
      "execution_count": null,
      "metadata": {
        "id": "ffEP-anAWOTT"
      },
      "outputs": [],
      "source": [
        ""
      ]
    },
    {
      "cell_type": "markdown",
      "source": [
        "#**Exceptions**\n",
        "\n",
        "Different exceptions are raised for different reasons.\n",
        "Common exceptions:\n",
        "\n",
        "**ImportError**: an import fails;\n",
        "\n",
        "**IndexError**: a list is indexed with an out-of-range number;\n",
        "\n",
        "**NameError**: an unknown variable is used;\n",
        "\n",
        "**SyntaxError**: the code can't be parsed properly;\n",
        "\n",
        "**TypeError**: a function is called on a value of an inappropriate type;\n",
        "\n",
        "**ValueError**: a function is called on a value of the correct type, but with an inappropriate value."
      ],
      "metadata": {
        "id": "3jomEPHrcfd_"
      }
    },
    {
      "cell_type": "code",
      "source": [
        ""
      ],
      "metadata": {
        "id": "pd5XOR-ncfeW"
      },
      "execution_count": null,
      "outputs": []
    },
    {
      "cell_type": "markdown",
      "source": [
        "***!***\n",
        "\n",
        "*Python has several other built-in exceptions, such as ZeroDivisionError and OSError. Third-party libraries also often define their own exceptions.*"
      ],
      "metadata": {
        "id": "fQ8a_u9QcfeX"
      }
    },
    {
      "cell_type": "markdown",
      "source": [
        "#*Exceptions*\n",
        "\n",
        "Which exception is raised by this code?\n",
        "\n",
        "print(\"7\" + 4)\n",
        "\n",
        "ValueError\n",
        "\n",
        "ZeroDivisionError\n",
        "\n",
        "TypeError\n",
        "\n",
        "Ans : TypeError"
      ],
      "metadata": {
        "id": "w97MrN9HcfeY"
      }
    },
    {
      "cell_type": "code",
      "source": [
        "print(\"7\" + 4)"
      ],
      "metadata": {
        "colab": {
          "base_uri": "https://localhost:8080/",
          "height": 165
        },
        "id": "_f8B4VVWdop0",
        "outputId": "54e65050-a58c-48db-93ca-26a217c655d0"
      },
      "execution_count": 2,
      "outputs": [
        {
          "output_type": "error",
          "ename": "TypeError",
          "evalue": "ignored",
          "traceback": [
            "\u001b[0;31m---------------------------------------------------------------------------\u001b[0m",
            "\u001b[0;31mTypeError\u001b[0m                                 Traceback (most recent call last)",
            "\u001b[0;32m<ipython-input-2-2a91f7ddcbf5>\u001b[0m in \u001b[0;36m<module>\u001b[0;34m()\u001b[0m\n\u001b[0;32m----> 1\u001b[0;31m \u001b[0mprint\u001b[0m\u001b[0;34m(\u001b[0m\u001b[0;34m\"7\"\u001b[0m \u001b[0;34m+\u001b[0m \u001b[0;36m4\u001b[0m\u001b[0;34m)\u001b[0m\u001b[0;34m\u001b[0m\u001b[0;34m\u001b[0m\u001b[0m\n\u001b[0m",
            "\u001b[0;31mTypeError\u001b[0m: can only concatenate str (not \"int\") to str"
          ]
        }
      ]
    },
    {
      "cell_type": "markdown",
      "source": [
        "#**42.1. Lesson**\n",
        "\n",
        "**Exception Handling**"
      ],
      "metadata": {
        "id": "HekclO6QBJy2"
      }
    },
    {
      "cell_type": "markdown",
      "source": [
        "#****\n",
        "\n"
      ],
      "metadata": {
        "id": "Hil36G-UDo2w"
      }
    },
    {
      "cell_type": "code",
      "source": [
        ""
      ],
      "metadata": {
        "id": "gdYZpeqPDo2x"
      },
      "execution_count": null,
      "outputs": []
    },
    {
      "cell_type": "markdown",
      "source": [
        "***!***\n",
        "\n",
        "**"
      ],
      "metadata": {
        "id": "n8RXbgppDo2x"
      }
    },
    {
      "cell_type": "markdown",
      "source": [
        "#**\n",
        "\n"
      ],
      "metadata": {
        "id": "6oVDDbeuDo2y"
      }
    },
    {
      "cell_type": "markdown",
      "source": [
        "#**43.1. Lesson**\n",
        "\n",
        "**finally**"
      ],
      "metadata": {
        "id": "RxboSSHlbTlQ"
      }
    },
    {
      "cell_type": "markdown",
      "source": [
        "#****\n",
        "\n"
      ],
      "metadata": {
        "id": "2ND23D9XbTlT"
      }
    },
    {
      "cell_type": "code",
      "source": [
        ""
      ],
      "metadata": {
        "id": "jaTN-fRibTlX"
      },
      "execution_count": null,
      "outputs": []
    },
    {
      "cell_type": "markdown",
      "source": [
        "***!***\n",
        "\n",
        "**"
      ],
      "metadata": {
        "id": "Luqc2LCybTlZ"
      }
    },
    {
      "cell_type": "markdown",
      "source": [
        "#**\n",
        "\n"
      ],
      "metadata": {
        "id": "ziYAGwWtbTlb"
      }
    },
    {
      "cell_type": "markdown",
      "source": [
        "#**44.1. Lesson**\n",
        "\n",
        "**Raising Exceptions**"
      ],
      "metadata": {
        "id": "QkoejICkbUC4"
      }
    },
    {
      "cell_type": "markdown",
      "source": [
        "#****\n",
        "\n"
      ],
      "metadata": {
        "id": "o8g6lT_ebUC6"
      }
    },
    {
      "cell_type": "code",
      "source": [
        ""
      ],
      "metadata": {
        "id": "eB3TXjdRbUC7"
      },
      "execution_count": null,
      "outputs": []
    },
    {
      "cell_type": "markdown",
      "source": [
        "***!***\n",
        "\n",
        "**"
      ],
      "metadata": {
        "id": "FUE1EGqTbUC9"
      }
    },
    {
      "cell_type": "markdown",
      "source": [
        "#**\n",
        "\n"
      ],
      "metadata": {
        "id": "RmdkNd8UbUC_"
      }
    },
    {
      "cell_type": "markdown",
      "source": [
        "#**45.1. Lesson**\n",
        "\n",
        "**Assertions**"
      ],
      "metadata": {
        "id": "kHTDIGO4bUJp"
      }
    },
    {
      "cell_type": "markdown",
      "source": [
        "#****\n",
        "\n"
      ],
      "metadata": {
        "id": "5D9iR2BIbUJs"
      }
    },
    {
      "cell_type": "code",
      "source": [
        ""
      ],
      "metadata": {
        "id": "_2kxKetSbUJt"
      },
      "execution_count": null,
      "outputs": []
    },
    {
      "cell_type": "markdown",
      "source": [
        "***!***\n",
        "\n",
        "**"
      ],
      "metadata": {
        "id": "kRXIhjakbUJt"
      }
    },
    {
      "cell_type": "markdown",
      "source": [
        "#**\n",
        "\n"
      ],
      "metadata": {
        "id": "3cSH9qpZbUJu"
      }
    },
    {
      "cell_type": "markdown",
      "source": [
        "#**46.1. Lesson**\n",
        "\n",
        "**Opening Files**"
      ],
      "metadata": {
        "id": "UphhzNEBbUTR"
      }
    },
    {
      "cell_type": "markdown",
      "source": [
        "#****\n",
        "\n"
      ],
      "metadata": {
        "id": "leRJc6NfbUTR"
      }
    },
    {
      "cell_type": "code",
      "source": [
        ""
      ],
      "metadata": {
        "id": "bTX-iHjubUTS"
      },
      "execution_count": null,
      "outputs": []
    },
    {
      "cell_type": "markdown",
      "source": [
        "***!***\n",
        "\n",
        "**"
      ],
      "metadata": {
        "id": "86SkxIbSbUTS"
      }
    },
    {
      "cell_type": "markdown",
      "source": [
        "#**\n",
        "\n"
      ],
      "metadata": {
        "id": "TnLGY1KHbUTS"
      }
    },
    {
      "cell_type": "markdown",
      "source": [
        "#**47.1. Lesson**\n",
        "\n",
        "**Reading Files**"
      ],
      "metadata": {
        "id": "SyJTIYsHbUaF"
      }
    },
    {
      "cell_type": "markdown",
      "source": [
        "#****\n",
        "\n"
      ],
      "metadata": {
        "id": "1B9YcHADbUaG"
      }
    },
    {
      "cell_type": "code",
      "source": [
        ""
      ],
      "metadata": {
        "id": "n48gpnIRbUaH"
      },
      "execution_count": null,
      "outputs": []
    },
    {
      "cell_type": "markdown",
      "source": [
        "***!***\n",
        "\n",
        "**"
      ],
      "metadata": {
        "id": "mgMgRd8obUaI"
      }
    },
    {
      "cell_type": "markdown",
      "source": [
        "#**\n",
        "\n"
      ],
      "metadata": {
        "id": "5pWeUIEwbUaI"
      }
    },
    {
      "cell_type": "markdown",
      "source": [
        "#**48.1. Lesson**\n",
        "\n",
        "**Writing Files**"
      ],
      "metadata": {
        "id": "QREKNq0dbUgv"
      }
    },
    {
      "cell_type": "markdown",
      "source": [
        "#****\n",
        "\n"
      ],
      "metadata": {
        "id": "ftmb8QZmbUgw"
      }
    },
    {
      "cell_type": "code",
      "source": [
        ""
      ],
      "metadata": {
        "id": "LmoB48KLbUgx"
      },
      "execution_count": null,
      "outputs": []
    },
    {
      "cell_type": "markdown",
      "source": [
        "***!***\n",
        "\n",
        "**"
      ],
      "metadata": {
        "id": "XQcDLTvzbUgy"
      }
    },
    {
      "cell_type": "markdown",
      "source": [
        "#**\n",
        "\n"
      ],
      "metadata": {
        "id": "g9TPQPrRbUgz"
      }
    },
    {
      "cell_type": "markdown",
      "source": [
        "#**49.1. Lesson**\n",
        "\n",
        "**Working with Files**"
      ],
      "metadata": {
        "id": "9k8mqCg0bUnx"
      }
    },
    {
      "cell_type": "markdown",
      "source": [
        "#****\n",
        "\n"
      ],
      "metadata": {
        "id": "le9qMJ_LbUny"
      }
    },
    {
      "cell_type": "code",
      "source": [
        ""
      ],
      "metadata": {
        "id": "woCgXZJfbUny"
      },
      "execution_count": null,
      "outputs": []
    },
    {
      "cell_type": "markdown",
      "source": [
        "***!***\n",
        "\n",
        "**"
      ],
      "metadata": {
        "id": "_AaEHbwbbUnz"
      }
    },
    {
      "cell_type": "markdown",
      "source": [
        "#**\n",
        "\n"
      ],
      "metadata": {
        "id": "Ogn3EeQKbUn0"
      }
    },
    {
      "cell_type": "markdown",
      "source": [
        "#**50.1. Lesson**\n",
        "\n",
        "**Module 5 Quiz**"
      ],
      "metadata": {
        "id": "3jqhAqrnbUzd"
      }
    },
    {
      "cell_type": "markdown",
      "source": [
        "#****\n",
        "\n"
      ],
      "metadata": {
        "id": "tFhAgWnlbUze"
      }
    },
    {
      "cell_type": "code",
      "source": [
        ""
      ],
      "metadata": {
        "id": "CvAOeobgbUze"
      },
      "execution_count": null,
      "outputs": []
    },
    {
      "cell_type": "markdown",
      "source": [
        "***!***\n",
        "\n",
        "**"
      ],
      "metadata": {
        "id": "XlN2p1DybUzf"
      }
    },
    {
      "cell_type": "markdown",
      "source": [
        "#**\n",
        "\n"
      ],
      "metadata": {
        "id": "pnMPvGH1bUzf"
      }
    },
    {
      "cell_type": "markdown",
      "source": [
        "#**51 Code Project**\n",
        "\n",
        "**Book Titles**"
      ],
      "metadata": {
        "id": "-L1kaSYZYed7"
      }
    },
    {
      "cell_type": "markdown",
      "source": [
        "#**Problem : Celcius to Fahrenheit Converter**\n",
        "\n",
        "Celsius to Fahrenheit\n",
        "\n",
        "\n",
        "You are making a Celsius to Fahrenheit converter.\n",
        "Write a function to take the Celsius value as an argument and return the corresponding Fahrenheit value.\n",
        "\n",
        "Sample Input\n",
        "36\n",
        "\n",
        "Sample Output\n",
        "96.8"
      ],
      "metadata": {
        "id": "1Wz-12ssMr7H"
      }
    },
    {
      "cell_type": "markdown",
      "source": [
        "***!***\n",
        "\n",
        "*The following equation is used to calculate the Fahrenheit value:*\n",
        "***9/5 * celsius + 32***"
      ],
      "metadata": {
        "id": "3Zhvr6fVM0vX"
      }
    },
    {
      "cell_type": "code",
      "source": [
        "celsius = int(input())\n",
        "\n",
        "def conv(c):\n",
        "    #your code goes here\n",
        "    print(9/5 * celsius + 32)\n",
        "\n",
        "fahrenheit = conv(celsius)"
      ],
      "metadata": {
        "colab": {
          "base_uri": "https://localhost:8080/"
        },
        "id": "OifXQOekNHE3",
        "outputId": "ff21844f-a9ad-4898-f257-de4360f76a86"
      },
      "execution_count": null,
      "outputs": [
        {
          "output_type": "stream",
          "name": "stdout",
          "text": [
            "36\n",
            "96.8\n"
          ]
        }
      ]
    },
    {
      "cell_type": "markdown",
      "source": [
        "#**Result : Celcius to Fahrenheit Converter**\n",
        "\n",
        "**Test Case 1**\n",
        "\n",
        "*Input*\n",
        "\n",
        "36\n",
        "\n",
        "*Your Output*\n",
        "\n",
        "96.8\n",
        "\n",
        "*Expected Output*\n",
        "\n",
        "96.8\n",
        "\n",
        "\n",
        "**Test Case 2**\n",
        "\n",
        "*Input*\n",
        "\n",
        "0\n",
        "\n",
        "*Your Output*\n",
        "\n",
        "32.0\n",
        "\n",
        "*Expected Output*\n",
        "\n",
        "32.0\n",
        "\n",
        "\n",
        "**Test Case 3**\n",
        "\n",
        "*Input*\n",
        "\n",
        "18\n",
        "\n",
        "*Your Output*\n",
        "\n",
        "64.4\n",
        "\n",
        "*Expected Output*\n",
        "\n",
        "64.4\n",
        "\n",
        "\n",
        "**Test Case 4**\n",
        "\n",
        "*This test case is hidden*"
      ],
      "metadata": {
        "id": "QKufMJEMQnoe"
      }
    },
    {
      "cell_type": "markdown",
      "source": [
        "***Practice makes perfect!***\n",
        "\n",
        "*You have solved the challenge*\n",
        "\n",
        "**Continue**"
      ],
      "metadata": {
        "id": "wpl7nKHWRCUt"
      }
    },
    {
      "cell_type": "markdown",
      "source": [
        "**Good habits are the key!**\n",
        "\n",
        "Well done. Coming next: Exceptions & Files"
      ],
      "metadata": {
        "id": "4sNccroWRPp0"
      }
    }
  ]
}
